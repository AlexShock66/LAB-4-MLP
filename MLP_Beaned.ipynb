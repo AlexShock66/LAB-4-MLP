{
 "cells": [
  {
   "cell_type": "code",
   "execution_count": 1,
   "metadata": {},
   "outputs": [],
   "source": [
    "import pandas as pd\n",
    "from sklearn.model_selection import train_test_split\n",
    "import numpy as np\n",
    "from scipy.special import expit\n",
    "import sys\n",
    "import matplotlib.pyplot as plt\n",
    "from sklearn.metrics import accuracy_score\n",
    "from sklearn.preprocessing import StandardScaler"
   ]
  },
  {
   "cell_type": "markdown",
   "metadata": {
    "collapsed": false
   },
   "source": [
    "## Load, Split, and Balance (1.5 points total)\n",
    "##### **[.5 points]**\n",
    "* (1) Load the data into memory and save it to a pandas data frame. Do not normalize or one-hot encode any of the features until asked to do so later in the rubric."
   ]
  },
  {
   "cell_type": "code",
   "execution_count": 2,
   "metadata": {
    "collapsed": false
   },
   "outputs": [
    {
     "data": {
      "text/html": [
       "<div>\n",
       "<style scoped>\n",
       "    .dataframe tbody tr th:only-of-type {\n",
       "        vertical-align: middle;\n",
       "    }\n",
       "\n",
       "    .dataframe tbody tr th {\n",
       "        vertical-align: top;\n",
       "    }\n",
       "\n",
       "    .dataframe thead th {\n",
       "        text-align: right;\n",
       "    }\n",
       "</style>\n",
       "<table border=\"1\" class=\"dataframe\">\n",
       "  <thead>\n",
       "    <tr style=\"text-align: right;\">\n",
       "      <th></th>\n",
       "      <th>TractId</th>\n",
       "      <th>State</th>\n",
       "      <th>County</th>\n",
       "      <th>TotalPop</th>\n",
       "      <th>Men</th>\n",
       "      <th>Women</th>\n",
       "      <th>Hispanic</th>\n",
       "      <th>White</th>\n",
       "      <th>Black</th>\n",
       "      <th>Native</th>\n",
       "      <th>...</th>\n",
       "      <th>Walk</th>\n",
       "      <th>OtherTransp</th>\n",
       "      <th>WorkAtHome</th>\n",
       "      <th>MeanCommute</th>\n",
       "      <th>Employed</th>\n",
       "      <th>PrivateWork</th>\n",
       "      <th>PublicWork</th>\n",
       "      <th>SelfEmployed</th>\n",
       "      <th>FamilyWork</th>\n",
       "      <th>Unemployment</th>\n",
       "    </tr>\n",
       "  </thead>\n",
       "  <tbody>\n",
       "    <tr>\n",
       "      <th>0</th>\n",
       "      <td>1001020100</td>\n",
       "      <td>Alabama</td>\n",
       "      <td>Autauga County</td>\n",
       "      <td>1845</td>\n",
       "      <td>899</td>\n",
       "      <td>946</td>\n",
       "      <td>2.4</td>\n",
       "      <td>86.3</td>\n",
       "      <td>5.2</td>\n",
       "      <td>0.0</td>\n",
       "      <td>...</td>\n",
       "      <td>0.5</td>\n",
       "      <td>0.0</td>\n",
       "      <td>2.1</td>\n",
       "      <td>24.5</td>\n",
       "      <td>881</td>\n",
       "      <td>74.2</td>\n",
       "      <td>21.2</td>\n",
       "      <td>4.5</td>\n",
       "      <td>0.0</td>\n",
       "      <td>4.6</td>\n",
       "    </tr>\n",
       "    <tr>\n",
       "      <th>1</th>\n",
       "      <td>1001020200</td>\n",
       "      <td>Alabama</td>\n",
       "      <td>Autauga County</td>\n",
       "      <td>2172</td>\n",
       "      <td>1167</td>\n",
       "      <td>1005</td>\n",
       "      <td>1.1</td>\n",
       "      <td>41.6</td>\n",
       "      <td>54.5</td>\n",
       "      <td>0.0</td>\n",
       "      <td>...</td>\n",
       "      <td>0.0</td>\n",
       "      <td>0.5</td>\n",
       "      <td>0.0</td>\n",
       "      <td>22.2</td>\n",
       "      <td>852</td>\n",
       "      <td>75.9</td>\n",
       "      <td>15.0</td>\n",
       "      <td>9.0</td>\n",
       "      <td>0.0</td>\n",
       "      <td>3.4</td>\n",
       "    </tr>\n",
       "    <tr>\n",
       "      <th>2</th>\n",
       "      <td>1001020300</td>\n",
       "      <td>Alabama</td>\n",
       "      <td>Autauga County</td>\n",
       "      <td>3385</td>\n",
       "      <td>1533</td>\n",
       "      <td>1852</td>\n",
       "      <td>8.0</td>\n",
       "      <td>61.4</td>\n",
       "      <td>26.5</td>\n",
       "      <td>0.6</td>\n",
       "      <td>...</td>\n",
       "      <td>1.0</td>\n",
       "      <td>0.8</td>\n",
       "      <td>1.5</td>\n",
       "      <td>23.1</td>\n",
       "      <td>1482</td>\n",
       "      <td>73.3</td>\n",
       "      <td>21.1</td>\n",
       "      <td>4.8</td>\n",
       "      <td>0.7</td>\n",
       "      <td>4.7</td>\n",
       "    </tr>\n",
       "    <tr>\n",
       "      <th>3</th>\n",
       "      <td>1001020400</td>\n",
       "      <td>Alabama</td>\n",
       "      <td>Autauga County</td>\n",
       "      <td>4267</td>\n",
       "      <td>2001</td>\n",
       "      <td>2266</td>\n",
       "      <td>9.6</td>\n",
       "      <td>80.3</td>\n",
       "      <td>7.1</td>\n",
       "      <td>0.5</td>\n",
       "      <td>...</td>\n",
       "      <td>1.5</td>\n",
       "      <td>2.9</td>\n",
       "      <td>2.1</td>\n",
       "      <td>25.9</td>\n",
       "      <td>1849</td>\n",
       "      <td>75.8</td>\n",
       "      <td>19.7</td>\n",
       "      <td>4.5</td>\n",
       "      <td>0.0</td>\n",
       "      <td>6.1</td>\n",
       "    </tr>\n",
       "    <tr>\n",
       "      <th>4</th>\n",
       "      <td>1001020500</td>\n",
       "      <td>Alabama</td>\n",
       "      <td>Autauga County</td>\n",
       "      <td>9965</td>\n",
       "      <td>5054</td>\n",
       "      <td>4911</td>\n",
       "      <td>0.9</td>\n",
       "      <td>77.5</td>\n",
       "      <td>16.4</td>\n",
       "      <td>0.0</td>\n",
       "      <td>...</td>\n",
       "      <td>0.8</td>\n",
       "      <td>0.3</td>\n",
       "      <td>0.7</td>\n",
       "      <td>21.0</td>\n",
       "      <td>4787</td>\n",
       "      <td>71.4</td>\n",
       "      <td>24.1</td>\n",
       "      <td>4.5</td>\n",
       "      <td>0.0</td>\n",
       "      <td>2.3</td>\n",
       "    </tr>\n",
       "  </tbody>\n",
       "</table>\n",
       "<p>5 rows × 37 columns</p>\n",
       "</div>"
      ],
      "text/plain": [
       "      TractId    State          County  TotalPop   Men  Women  Hispanic  \\\n",
       "0  1001020100  Alabama  Autauga County      1845   899    946       2.4   \n",
       "1  1001020200  Alabama  Autauga County      2172  1167   1005       1.1   \n",
       "2  1001020300  Alabama  Autauga County      3385  1533   1852       8.0   \n",
       "3  1001020400  Alabama  Autauga County      4267  2001   2266       9.6   \n",
       "4  1001020500  Alabama  Autauga County      9965  5054   4911       0.9   \n",
       "\n",
       "   White  Black  Native  ...  Walk  OtherTransp  WorkAtHome  MeanCommute  \\\n",
       "0   86.3    5.2     0.0  ...   0.5          0.0         2.1         24.5   \n",
       "1   41.6   54.5     0.0  ...   0.0          0.5         0.0         22.2   \n",
       "2   61.4   26.5     0.6  ...   1.0          0.8         1.5         23.1   \n",
       "3   80.3    7.1     0.5  ...   1.5          2.9         2.1         25.9   \n",
       "4   77.5   16.4     0.0  ...   0.8          0.3         0.7         21.0   \n",
       "\n",
       "   Employed  PrivateWork  PublicWork  SelfEmployed  FamilyWork  Unemployment  \n",
       "0       881         74.2        21.2           4.5         0.0           4.6  \n",
       "1       852         75.9        15.0           9.0         0.0           3.4  \n",
       "2      1482         73.3        21.1           4.8         0.7           4.7  \n",
       "3      1849         75.8        19.7           4.5         0.0           6.1  \n",
       "4      4787         71.4        24.1           4.5         0.0           2.3  \n",
       "\n",
       "[5 rows x 37 columns]"
      ]
     },
     "execution_count": 2,
     "metadata": {},
     "output_type": "execute_result"
    }
   ],
   "source": [
    "#Read in the data\n",
    "data = pd.read_csv('./acs2017_census_tract_data.csv', low_memory=False)\n",
    "data.head()"
   ]
  },
  {
   "cell_type": "markdown",
   "metadata": {},
   "source": [
    "* (2) Remove any observations that having missing data."
   ]
  },
  {
   "cell_type": "code",
   "execution_count": 3,
   "metadata": {
    "collapsed": false
   },
   "outputs": [
    {
     "name": "stdout",
     "output_type": "stream",
     "text": [
      "Null Values before drop:\n",
      "\n",
      "TractId                0\n",
      "State                  0\n",
      "County                 0\n",
      "TotalPop               0\n",
      "Men                    0\n",
      "Women                  0\n",
      "Hispanic             696\n",
      "White                696\n",
      "Black                696\n",
      "Native               696\n",
      "Asian                696\n",
      "Pacific              696\n",
      "VotingAgeCitizen       0\n",
      "Income              1116\n",
      "IncomeErr           1116\n",
      "IncomePerCap         745\n",
      "IncomePerCapErr      745\n",
      "Poverty              842\n",
      "ChildPoverty        1110\n",
      "Professional         811\n",
      "Service              811\n",
      "Office               811\n",
      "Construction         811\n",
      "Production           811\n",
      "Drive                801\n",
      "Carpool              801\n",
      "Transit              801\n",
      "Walk                 801\n",
      "OtherTransp          801\n",
      "WorkAtHome           801\n",
      "MeanCommute          946\n",
      "Employed               0\n",
      "PrivateWork          811\n",
      "PublicWork           811\n",
      "SelfEmployed         811\n",
      "FamilyWork           811\n",
      "Unemployment         810\n",
      "dtype: int64\n",
      "\n",
      "Null Values after drop:\n",
      "\n",
      "TractId             0\n",
      "State               0\n",
      "County              0\n",
      "TotalPop            0\n",
      "Men                 0\n",
      "Women               0\n",
      "Hispanic            0\n",
      "White               0\n",
      "Black               0\n",
      "Native              0\n",
      "Asian               0\n",
      "Pacific             0\n",
      "VotingAgeCitizen    0\n",
      "Income              0\n",
      "IncomeErr           0\n",
      "IncomePerCap        0\n",
      "IncomePerCapErr     0\n",
      "Poverty             0\n",
      "ChildPoverty        0\n",
      "Professional        0\n",
      "Service             0\n",
      "Office              0\n",
      "Construction        0\n",
      "Production          0\n",
      "Drive               0\n",
      "Carpool             0\n",
      "Transit             0\n",
      "Walk                0\n",
      "OtherTransp         0\n",
      "WorkAtHome          0\n",
      "MeanCommute         0\n",
      "Employed            0\n",
      "PrivateWork         0\n",
      "PublicWork          0\n",
      "SelfEmployed        0\n",
      "FamilyWork          0\n",
      "Unemployment        0\n",
      "dtype: int64\n"
     ]
    }
   ],
   "source": [
    "# data.describe()\n",
    "#Finding null values\n",
    "print(\"Null Values before drop:\\n\")\n",
    "print(data.isnull().sum())\n",
    "\n",
    "data.dropna(axis=0,how=\"any\",inplace=True)\n",
    "\n",
    "print(\"\\nNull Values after drop:\\n\")\n",
    "print(data.isnull().sum())\n",
    "# data.describe()"
   ]
  },
  {
   "cell_type": "markdown",
   "metadata": {},
   "source": [
    "* (3) Encode any string data as integers for now."
   ]
  },
  {
   "cell_type": "code",
   "execution_count": 4,
   "metadata": {
    "collapsed": false
   },
   "outputs": [
    {
     "name": "stdout",
     "output_type": "stream",
     "text": [
      "Categorical Features\n",
      "State     object\n",
      "County    object\n",
      "dtype: object\n",
      "Features After encoding\n",
      "State      int8\n",
      "County    int16\n",
      "dtype: object\n"
     ]
    }
   ],
   "source": [
    "print(\"Categorical Features\")\n",
    "print(data.dtypes[data.dtypes != 'float64'][data.dtypes !='int64'])\n",
    "data_cat = data.copy() # Will be used later\n",
    "states = data[\"State\"]\n",
    "counties = data[\"County\"]\n",
    "data[\"State\"] = data[\"State\"].astype('category')\n",
    "data[\"State\"] = data[\"State\"].cat.codes\n",
    "data[\"County\"] = data[\"County\"].astype('category')\n",
    "data[\"County\"] = data[\"County\"].cat.codes\n",
    "\n",
    "print(\"Features After encoding\")\n",
    "print(data.dtypes[data.dtypes != 'float64'][data.dtypes !='int64'])"
   ]
  },
  {
   "cell_type": "markdown",
   "metadata": {},
   "source": [
    "* (4) You have the option of keeping the \"county\" variable or removing it. Be sure to discuss why you decided to keep/remove this variable."
   ]
  },
  {
   "cell_type": "markdown",
   "metadata": {
    "collapsed": false
   },
   "source": [
    "&nbsp;&nbsp;&nbsp;&nbsp;&nbsp;We decided to remove the county data because we determined that it would not be as relevant as the other attributes in our dataset. Furthermore, we realized that if we were to keep it, we would need to one hot encode it as it is a cetegorical data type which would increase the number of attributes in our data signifigantly. Since a neural network's time complexist is based on the number of attributes, we decided that it would make more sense to remove the county variable completely.<br/>\n",
    "\n",
    "&nbsp;&nbsp;&nbsp;&nbsp;&nbsp;We chose to remove variables such as TractId because it is an ID number and not relevant as a predictor of our classes. We also removed things such as race because we wanted to try to stray away from the model picking up a racial bias and wanted it to focus more on variables such as income and the types of industry in the given county.<br/>\n",
    "\n",
    "&nbsp;&nbsp;&nbsp;&nbsp;&nbsp;We also removed data such as how people commute to work as we determined that this data would not be very important in predicting child poverty as the types of commuting vary drastically and would only really help to determine if a county has most of the population in a city or not and it is not a good indicator as to whether or not a county will have high child poverty. It was also necessary to convert data such as number of Men and number of Women to be percentages so that they were somewhat normalized because without doing this, then a county with a higher population will appear to have more women and men than another county with lower pop. Finally, we removed data about the number of people over the age of 16 who are employed because it is already accounted for in the unemployment rate attribute and by leaving it in, we would create a stronger bias for that data without meaning to.<br/>\n",
    "\n",
    "&nbsp;&nbsp;&nbsp;&nbsp;&nbsp;__NOTE:__ It may be worth while to add this data in back in the end to see if it was increases our accuracy but for now, we will leave it out. "
   ]
  },
  {
   "cell_type": "code",
   "execution_count": 5,
   "metadata": {
    "collapsed": false
   },
   "outputs": [
    {
     "data": {
      "text/html": [
       "<div>\n",
       "<style scoped>\n",
       "    .dataframe tbody tr th:only-of-type {\n",
       "        vertical-align: middle;\n",
       "    }\n",
       "\n",
       "    .dataframe tbody tr th {\n",
       "        vertical-align: top;\n",
       "    }\n",
       "\n",
       "    .dataframe thead th {\n",
       "        text-align: right;\n",
       "    }\n",
       "</style>\n",
       "<table border=\"1\" class=\"dataframe\">\n",
       "  <thead>\n",
       "    <tr style=\"text-align: right;\">\n",
       "      <th></th>\n",
       "      <th>State</th>\n",
       "      <th>TotalPop</th>\n",
       "      <th>Men</th>\n",
       "      <th>Women</th>\n",
       "      <th>VotingAgeCitizen</th>\n",
       "      <th>Income</th>\n",
       "      <th>IncomeErr</th>\n",
       "      <th>IncomePerCap</th>\n",
       "      <th>IncomePerCapErr</th>\n",
       "      <th>Poverty</th>\n",
       "      <th>...</th>\n",
       "      <th>Service</th>\n",
       "      <th>Office</th>\n",
       "      <th>Construction</th>\n",
       "      <th>Production</th>\n",
       "      <th>WorkAtHome</th>\n",
       "      <th>PrivateWork</th>\n",
       "      <th>PublicWork</th>\n",
       "      <th>SelfEmployed</th>\n",
       "      <th>FamilyWork</th>\n",
       "      <th>Unemployment</th>\n",
       "    </tr>\n",
       "  </thead>\n",
       "  <tbody>\n",
       "    <tr>\n",
       "      <th>count</th>\n",
       "      <td>72718.000000</td>\n",
       "      <td>72718.000000</td>\n",
       "      <td>72718.000000</td>\n",
       "      <td>72718.000000</td>\n",
       "      <td>72718.000000</td>\n",
       "      <td>72718.000000</td>\n",
       "      <td>72718.000000</td>\n",
       "      <td>72718.000000</td>\n",
       "      <td>72718.000000</td>\n",
       "      <td>72718.000000</td>\n",
       "      <td>...</td>\n",
       "      <td>72718.000000</td>\n",
       "      <td>72718.000000</td>\n",
       "      <td>72718.000000</td>\n",
       "      <td>72718.000000</td>\n",
       "      <td>72718.000000</td>\n",
       "      <td>72718.000000</td>\n",
       "      <td>72718.000000</td>\n",
       "      <td>72718.000000</td>\n",
       "      <td>72718.000000</td>\n",
       "      <td>72718.000000</td>\n",
       "    </tr>\n",
       "    <tr>\n",
       "      <th>mean</th>\n",
       "      <td>24.340370</td>\n",
       "      <td>4443.485121</td>\n",
       "      <td>0.491322</td>\n",
       "      <td>0.508678</td>\n",
       "      <td>0.717249</td>\n",
       "      <td>61119.999326</td>\n",
       "      <td>9690.325642</td>\n",
       "      <td>30666.653222</td>\n",
       "      <td>4249.725969</td>\n",
       "      <td>16.046724</td>\n",
       "      <td>...</td>\n",
       "      <td>18.847948</td>\n",
       "      <td>23.413165</td>\n",
       "      <td>9.263044</td>\n",
       "      <td>12.922312</td>\n",
       "      <td>4.612646</td>\n",
       "      <td>79.511827</td>\n",
       "      <td>14.149495</td>\n",
       "      <td>6.167661</td>\n",
       "      <td>0.171231</td>\n",
       "      <td>7.224917</td>\n",
       "    </tr>\n",
       "    <tr>\n",
       "      <th>std</th>\n",
       "      <td>15.102552</td>\n",
       "      <td>2190.183318</td>\n",
       "      <td>0.040244</td>\n",
       "      <td>0.040244</td>\n",
       "      <td>0.104256</td>\n",
       "      <td>30511.062580</td>\n",
       "      <td>6119.407315</td>\n",
       "      <td>15844.127467</td>\n",
       "      <td>2991.009809</td>\n",
       "      <td>12.428643</td>\n",
       "      <td>...</td>\n",
       "      <td>7.969609</td>\n",
       "      <td>5.591354</td>\n",
       "      <td>5.943849</td>\n",
       "      <td>7.592511</td>\n",
       "      <td>3.770733</td>\n",
       "      <td>7.957350</td>\n",
       "      <td>7.164790</td>\n",
       "      <td>3.798703</td>\n",
       "      <td>0.451630</td>\n",
       "      <td>5.099419</td>\n",
       "    </tr>\n",
       "    <tr>\n",
       "      <th>min</th>\n",
       "      <td>0.000000</td>\n",
       "      <td>58.000000</td>\n",
       "      <td>0.037275</td>\n",
       "      <td>0.006886</td>\n",
       "      <td>0.083826</td>\n",
       "      <td>2692.000000</td>\n",
       "      <td>728.000000</td>\n",
       "      <td>1631.000000</td>\n",
       "      <td>351.000000</td>\n",
       "      <td>0.000000</td>\n",
       "      <td>...</td>\n",
       "      <td>0.000000</td>\n",
       "      <td>0.000000</td>\n",
       "      <td>0.000000</td>\n",
       "      <td>0.000000</td>\n",
       "      <td>0.000000</td>\n",
       "      <td>17.500000</td>\n",
       "      <td>0.000000</td>\n",
       "      <td>0.000000</td>\n",
       "      <td>0.000000</td>\n",
       "      <td>0.000000</td>\n",
       "    </tr>\n",
       "    <tr>\n",
       "      <th>25%</th>\n",
       "      <td>10.000000</td>\n",
       "      <td>2958.000000</td>\n",
       "      <td>0.469348</td>\n",
       "      <td>0.488619</td>\n",
       "      <td>0.672307</td>\n",
       "      <td>40380.000000</td>\n",
       "      <td>5737.000000</td>\n",
       "      <td>20624.000000</td>\n",
       "      <td>2508.000000</td>\n",
       "      <td>6.900000</td>\n",
       "      <td>...</td>\n",
       "      <td>13.300000</td>\n",
       "      <td>19.700000</td>\n",
       "      <td>5.000000</td>\n",
       "      <td>7.200000</td>\n",
       "      <td>2.000000</td>\n",
       "      <td>75.300000</td>\n",
       "      <td>9.300000</td>\n",
       "      <td>3.500000</td>\n",
       "      <td>0.000000</td>\n",
       "      <td>3.900000</td>\n",
       "    </tr>\n",
       "    <tr>\n",
       "      <th>50%</th>\n",
       "      <td>24.000000</td>\n",
       "      <td>4137.000000</td>\n",
       "      <td>0.490761</td>\n",
       "      <td>0.509239</td>\n",
       "      <td>0.739374</td>\n",
       "      <td>54413.000000</td>\n",
       "      <td>8268.000000</td>\n",
       "      <td>27249.000000</td>\n",
       "      <td>3404.000000</td>\n",
       "      <td>12.600000</td>\n",
       "      <td>...</td>\n",
       "      <td>17.700000</td>\n",
       "      <td>23.200000</td>\n",
       "      <td>8.400000</td>\n",
       "      <td>11.800000</td>\n",
       "      <td>3.800000</td>\n",
       "      <td>80.600000</td>\n",
       "      <td>13.000000</td>\n",
       "      <td>5.500000</td>\n",
       "      <td>0.000000</td>\n",
       "      <td>6.000000</td>\n",
       "    </tr>\n",
       "    <tr>\n",
       "      <th>75%</th>\n",
       "      <td>38.000000</td>\n",
       "      <td>5532.750000</td>\n",
       "      <td>0.511381</td>\n",
       "      <td>0.530652</td>\n",
       "      <td>0.783471</td>\n",
       "      <td>74688.000000</td>\n",
       "      <td>11909.000000</td>\n",
       "      <td>36413.000000</td>\n",
       "      <td>4959.000000</td>\n",
       "      <td>21.800000</td>\n",
       "      <td>...</td>\n",
       "      <td>23.200000</td>\n",
       "      <td>26.900000</td>\n",
       "      <td>12.500000</td>\n",
       "      <td>17.500000</td>\n",
       "      <td>6.300000</td>\n",
       "      <td>85.000000</td>\n",
       "      <td>17.600000</td>\n",
       "      <td>8.000000</td>\n",
       "      <td>0.000000</td>\n",
       "      <td>9.000000</td>\n",
       "    </tr>\n",
       "    <tr>\n",
       "      <th>max</th>\n",
       "      <td>51.000000</td>\n",
       "      <td>65528.000000</td>\n",
       "      <td>0.993114</td>\n",
       "      <td>0.962725</td>\n",
       "      <td>0.992776</td>\n",
       "      <td>249750.000000</td>\n",
       "      <td>153365.000000</td>\n",
       "      <td>220253.000000</td>\n",
       "      <td>84414.000000</td>\n",
       "      <td>100.000000</td>\n",
       "      <td>...</td>\n",
       "      <td>70.900000</td>\n",
       "      <td>72.300000</td>\n",
       "      <td>68.100000</td>\n",
       "      <td>60.500000</td>\n",
       "      <td>82.800000</td>\n",
       "      <td>100.000000</td>\n",
       "      <td>80.700000</td>\n",
       "      <td>47.400000</td>\n",
       "      <td>22.300000</td>\n",
       "      <td>62.800000</td>\n",
       "    </tr>\n",
       "  </tbody>\n",
       "</table>\n",
       "<p>8 rows × 22 columns</p>\n",
       "</div>"
      ],
      "text/plain": [
       "              State      TotalPop           Men         Women  \\\n",
       "count  72718.000000  72718.000000  72718.000000  72718.000000   \n",
       "mean      24.340370   4443.485121      0.491322      0.508678   \n",
       "std       15.102552   2190.183318      0.040244      0.040244   \n",
       "min        0.000000     58.000000      0.037275      0.006886   \n",
       "25%       10.000000   2958.000000      0.469348      0.488619   \n",
       "50%       24.000000   4137.000000      0.490761      0.509239   \n",
       "75%       38.000000   5532.750000      0.511381      0.530652   \n",
       "max       51.000000  65528.000000      0.993114      0.962725   \n",
       "\n",
       "       VotingAgeCitizen         Income      IncomeErr   IncomePerCap  \\\n",
       "count      72718.000000   72718.000000   72718.000000   72718.000000   \n",
       "mean           0.717249   61119.999326    9690.325642   30666.653222   \n",
       "std            0.104256   30511.062580    6119.407315   15844.127467   \n",
       "min            0.083826    2692.000000     728.000000    1631.000000   \n",
       "25%            0.672307   40380.000000    5737.000000   20624.000000   \n",
       "50%            0.739374   54413.000000    8268.000000   27249.000000   \n",
       "75%            0.783471   74688.000000   11909.000000   36413.000000   \n",
       "max            0.992776  249750.000000  153365.000000  220253.000000   \n",
       "\n",
       "       IncomePerCapErr       Poverty  ...       Service        Office  \\\n",
       "count     72718.000000  72718.000000  ...  72718.000000  72718.000000   \n",
       "mean       4249.725969     16.046724  ...     18.847948     23.413165   \n",
       "std        2991.009809     12.428643  ...      7.969609      5.591354   \n",
       "min         351.000000      0.000000  ...      0.000000      0.000000   \n",
       "25%        2508.000000      6.900000  ...     13.300000     19.700000   \n",
       "50%        3404.000000     12.600000  ...     17.700000     23.200000   \n",
       "75%        4959.000000     21.800000  ...     23.200000     26.900000   \n",
       "max       84414.000000    100.000000  ...     70.900000     72.300000   \n",
       "\n",
       "       Construction    Production    WorkAtHome   PrivateWork    PublicWork  \\\n",
       "count  72718.000000  72718.000000  72718.000000  72718.000000  72718.000000   \n",
       "mean       9.263044     12.922312      4.612646     79.511827     14.149495   \n",
       "std        5.943849      7.592511      3.770733      7.957350      7.164790   \n",
       "min        0.000000      0.000000      0.000000     17.500000      0.000000   \n",
       "25%        5.000000      7.200000      2.000000     75.300000      9.300000   \n",
       "50%        8.400000     11.800000      3.800000     80.600000     13.000000   \n",
       "75%       12.500000     17.500000      6.300000     85.000000     17.600000   \n",
       "max       68.100000     60.500000     82.800000    100.000000     80.700000   \n",
       "\n",
       "       SelfEmployed    FamilyWork  Unemployment  \n",
       "count  72718.000000  72718.000000  72718.000000  \n",
       "mean       6.167661      0.171231      7.224917  \n",
       "std        3.798703      0.451630      5.099419  \n",
       "min        0.000000      0.000000      0.000000  \n",
       "25%        3.500000      0.000000      3.900000  \n",
       "50%        5.500000      0.000000      6.000000  \n",
       "75%        8.000000      0.000000      9.000000  \n",
       "max       47.400000     22.300000     62.800000  \n",
       "\n",
       "[8 rows x 22 columns]"
      ]
     },
     "execution_count": 5,
     "metadata": {},
     "output_type": "execute_result"
    }
   ],
   "source": [
    "#Data Cleaning\n",
    "#Drop Non important columns\n",
    "data.drop(columns=['TractId','Hispanic','White','Black','Native','Asian','Pacific','Employed','MeanCommute','OtherTransp','Walk','Transit','Carpool','Drive','County'],inplace=True)\n",
    "\n",
    "\n",
    "#Numerical Data into percentages so that it is not skewed by population\n",
    "data['Men'] = data['Men'] / data['TotalPop']\n",
    "data['Women'] = data['Women'] / data['TotalPop']\n",
    "data['VotingAgeCitizen'] = data['VotingAgeCitizen'] / data['TotalPop']\n",
    "data.describe()"
   ]
  },
  {
   "cell_type": "markdown",
   "metadata": {},
   "source": [
    "#### Determining the cutoff for our Categories of child poverty\n",
    "##### [.5 points] Balance the dataset so that about the same number of instances are within each class. Choose a method for balancing the dataset and explain your reasoning for selecting this method. One option is to choose quantization thresholds for the \"ChildPoverty\" variable that equally divide the data into four classes. Should balancing of the dataset be done for both the training and testing set? Explain.\n",
    "\n",
    "&nbsp;&nbsp;&nbsp;&nbsp;&nbsp;We decided to go with pandas built in qcut function which is able to evenly divide any given series into n bins. Since we want 4 types of targets, we gave the function the number 4 for n and it ends up being the cutoff for the quartile ranges of the data. Meaning that the first bin, low child poverty, is the values from the 0th to 25th quartile and the moderate variable is the values from the 25th quartile to the 50th so on and so forth. By doing this, we are left with a roughly equivalent number of entries in each target variable. This is extremely important for the training data because without it, the model could only be good at looking at low poverty rates and would have little data to go off of in the high or extreme categories for example. This idea is not so important for the testing data because when testing, the model should be able to generalize such that it does not need an equivalent number of each class as it is not actively learning from the data and would therefore not be skewed one way or the other. I would argue that it is almost beneficial to have an uneven number of each category in the testing set because that can show if the model is able to generalize well or not."
   ]
  },
  {
   "cell_type": "code",
   "execution_count": 6,
   "metadata": {
    "collapsed": false
   },
   "outputs": [
    {
     "name": "stdout",
     "output_type": "stream",
     "text": [
      "ChildPoverty\n",
      "1    18229\n",
      "2    18171\n",
      "3    18148\n",
      "4    18170\n",
      "dtype: int64\n"
     ]
    }
   ],
   "source": [
    "#Coming up with divisors for child poverty\n",
    "\n",
    "tmp = pd.qcut(data['ChildPoverty'],4,labels=[1, 2, 3, 4])\n",
    "# tmp = pd.qcut(data['ChildPoverty'],4,labels=['low','moderate','high','extreme'])\n",
    "data['ChildPoverty'] = tmp\n",
    "print(data.groupby(['ChildPoverty']).size())"
   ]
  },
  {
   "cell_type": "code",
   "execution_count": 7,
   "metadata": {},
   "outputs": [
    {
     "data": {
      "text/plain": [
       "Index(['State', 'TotalPop', 'Men', 'Women', 'VotingAgeCitizen', 'Income',\n",
       "       'IncomeErr', 'IncomePerCap', 'IncomePerCapErr', 'Poverty',\n",
       "       'ChildPoverty', 'Professional', 'Service', 'Office', 'Construction',\n",
       "       'Production', 'WorkAtHome', 'PrivateWork', 'PublicWork', 'SelfEmployed',\n",
       "       'FamilyWork', 'Unemployment'],\n",
       "      dtype='object')"
      ]
     },
     "execution_count": 7,
     "metadata": {},
     "output_type": "execute_result"
    }
   ],
   "source": [
    "data.columns"
   ]
  },
  {
   "cell_type": "markdown",
   "metadata": {},
   "source": [
    "##### [.5 points] Assume you are equally interested in the classification performance for each class in the dataset. Split the dataset into 80% for training and 20% for testing. There is NO NEED to split the data multiple times for this lab."
   ]
  },
  {
   "cell_type": "code",
   "execution_count": 8,
   "metadata": {
    "collapsed": false
   },
   "outputs": [
    {
     "name": "stdout",
     "output_type": "stream",
     "text": [
      "Train_data shape: (58174, 22) - 80.00% of original data\n",
      "Train_data classes:\n",
      " ChildPoverty\n",
      "1    14596\n",
      "2    14447\n",
      "3    14538\n",
      "4    14593\n",
      "dtype: int64\n",
      "\n",
      "Test_data shape: (14544, 22) - 20.00% of original data\n",
      "Test_data classes:\n",
      " ChildPoverty\n",
      "1    3633\n",
      "2    3724\n",
      "3    3610\n",
      "4    3577\n",
      "dtype: int64\n",
      "\n",
      "Type of X: <class 'numpy.ndarray'>\n",
      "Type of y: <class 'numpy.ndarray'>\n",
      "\n",
      "X_train: (58174, 21)\n",
      "y_train: (58174,)\n",
      "Targets: [1 2 3 4]\n",
      "X_test: (14544, 21)\n",
      "y_test: (14544,)\n",
      "[0 1 2 3]\n",
      "[0 1 2 3]\n"
     ]
    }
   ],
   "source": [
    "# One-Hot Encodes\n",
    "def encode_and_bind(original_dataframe, feature_to_encode):\n",
    "    dummies = pd.get_dummies(original_dataframe[[feature_to_encode]])\n",
    "    res = pd.concat([original_dataframe, dummies], axis=1)\n",
    "    res = res.drop([feature_to_encode], axis=1)\n",
    "    return res\n",
    "\n",
    "\n",
    "train_data, test_data = train_test_split(data, test_size=0.2, random_state=42)\n",
    "\n",
    "print(f'Train_data shape: {train_data.shape} - {train_data.shape[0] / data.shape[0] * 100:.2f}% of original data')\n",
    "print('Train_data classes:\\n',train_data.groupby(['ChildPoverty']).size()) #Ensure that the number of classes stays relatively equivalent\n",
    "print(f'\\nTest_data shape: {test_data.shape} - {test_data.shape[0] / data.shape[0] * 100:.2f}% of original data')\n",
    "print('Test_data classes:\\n',test_data.groupby(['ChildPoverty']).size())\n",
    "\n",
    "y_train = pd.DataFrame(train_data['ChildPoverty'])\n",
    "y_train = y_train.values.ravel()\n",
    "X_train = train_data.drop(columns=['ChildPoverty'],inplace=False)\n",
    "X_train = np.array(X_train)\n",
    "# y_train = encode_and_bind(y_train,'ChildPoverty')\n",
    "\n",
    "y_test = pd.DataFrame(test_data['ChildPoverty'])\n",
    "y_test = y_test.values.ravel()\n",
    "X_test = test_data.drop(columns=['ChildPoverty'],inplace=False)\n",
    "\n",
    "X_test=np.array(X_test)\n",
    "# y_test = encode_and_bind(y_test,'ChildPoverty')\n",
    "\n",
    "\n",
    "print()\n",
    "print(f'Type of X: {type(X_train)}\\nType of y: {type(y_train)}\\n')\n",
    "\n",
    "print('X_train:', X_train.shape)\n",
    "print('y_train:', y_train.shape)\n",
    "print('Targets:', np.unique(y_train))\n",
    "print('X_test:', X_test.shape)\n",
    "print('y_test:', y_test.shape)\n",
    "\n",
    "y_test = y_test - 1\n",
    "print(np.unique(y_test))\n",
    "y_train = y_train - 1\n",
    "print(np.unique(y_train))"
   ]
  },
  {
   "cell_type": "markdown",
   "metadata": {
    "collapsed": false
   },
   "source": [
    "## Pre-processing and Initial Modeling (2.5 points total)\n",
    "\n",
    "&nbsp;&nbsp;&nbsp;&nbsp;&nbsp;We will be using a two layer perceptron for the next few parts. The perceptron uses the following properties:\n",
    "1. Vectorized Gradient Computation - DONE\n",
    "2. Mini-Batching - TODO\n",
    "3. Cross Entropy Loss - TODO\n",
    "4. Proper Glorot Initialization - TODO\n",
    "5. Sigmoids - DONE"
   ]
  },
  {
   "cell_type": "markdown",
   "metadata": {},
   "source": [
    "##### Two Layer Perceptron Code"
   ]
  },
  {
   "cell_type": "code",
   "execution_count": 9,
   "metadata": {},
   "outputs": [],
   "source": [
    "import numpy as np\n",
    "from scipy.special import expit\n",
    "import sys\n",
    "import pandas as pd\n",
    "\n",
    "\n",
    "\n",
    "class TwoLayerPerceptronBase(object):\n",
    "    def __init__(self, n_hidden=30,C=0.0,epochs=500,eta=0.001,random_state=None):\n",
    "        np.random.seed(random_state)\n",
    "        self.n_hidden = n_hidden\n",
    "        self.l2_C = C\n",
    "        self.epochs = epochs\n",
    "        self.eta = eta\n",
    "    @staticmethod\n",
    "    def _encode_labels(y):\n",
    "        return pd.get_dummies(y).values.T\n",
    "\n",
    "    def _initialize_weights(self):\n",
    "        W1_num_elems = (self.n_features_ + 1) * self.n_hidden\n",
    "        W1 = np.random.uniform(-1.0,1.0,size=W1_num_elems)\n",
    "        W1 = W1.reshape(self.n_hidden,self.n_features_ + 1)\n",
    "\n",
    "        W2_num_elems = (self.n_hidden + 1)*self.n_output_\n",
    "        W2 = np.random.uniform(-1.0,1.0,size=W2_num_elems)\n",
    "        W2 = W2.reshape(self.n_output_,self.n_hidden + 1)\n",
    "        return W1,W2\n",
    "    @staticmethod\n",
    "    def _sigmoid(z):\n",
    "        \"\"\"Use scipy.special.expit to avoid overflow\"\"\"\n",
    "        # 1.0 / (1.0 + np.exp(-z))\n",
    "        return expit(z)\n",
    "\n",
    "    @staticmethod\n",
    "    def _add_bias_unit(X, how='column'):\n",
    "        \"\"\"Add bias unit (column or row of 1s) to array at index 0\"\"\"\n",
    "        if how == 'column':\n",
    "            ones = np.ones((X.shape[0], 1))\n",
    "            X_new = np.hstack((ones, X))\n",
    "        elif how == 'row':\n",
    "            ones = np.ones((1, X.shape[1]))\n",
    "            X_new = np.vstack((ones, X))\n",
    "        return X_new\n",
    "\n",
    "    @staticmethod\n",
    "    def _L2_reg(lambda_, W1, W2):\n",
    "        \"\"\"Compute L2-regularization cost\"\"\"\n",
    "        # only compute for non-bias terms\n",
    "        return (lambda_) * np.sqrt(np.mean(W1[:, 1:] ** 2) + np.mean(W2[:, 1:] ** 2))\n",
    "\n",
    "    def _cost(self,A3,Y_enc,W1,W2):\n",
    "        '''Get the objective function value'''\n",
    "        cost = np.mean((Y_enc-A3)**2)\n",
    "        L2_term = self._L2_reg(self.l2_C, W1, W2)\n",
    "        return cost + L2_term"
   ]
  },
  {
   "cell_type": "code",
   "execution_count": 10,
   "metadata": {},
   "outputs": [],
   "source": [
    "class TwoLayerPerceptron(TwoLayerPerceptronBase):\n",
    "    def _feedforward(self, X, W1, W2):\n",
    "        \"\"\"Compute feedforward step\n",
    "        -----------\n",
    "        X : Input layer with original features.\n",
    "        W1: Weight matrix for input layer -> hidden layer.\n",
    "        W2: Weight matrix for hidden layer -> output layer.\n",
    "        ----------\n",
    "        a1-a3 : activations into layer (or output layer)\n",
    "        z1-z2 : layer inputs\n",
    "\n",
    "        \"\"\"\n",
    "        A1 = self._add_bias_unit(X.T, how='row')\n",
    "        Z1 = W1 @ A1\n",
    "        A2 = self._sigmoid(Z1)\n",
    "        A2 = self._add_bias_unit(A2, how='row')\n",
    "        Z2 = W2 @ A2\n",
    "        A3 = self._sigmoid(Z2)\n",
    "        return A1, Z1, A2, Z2, A3\n",
    "    def _get_gradient(self, A1, A2, A3, Z1, Z2, Y_enc, W1, W2):\n",
    "        \"\"\" Compute gradient step using backpropagation.\n",
    "        \"\"\"\n",
    "        # need to vectorize this computation!\n",
    "        # See additional code and derivation below!\n",
    "\n",
    "    def predict(self, X):\n",
    "        \"\"\"Predict class labels\"\"\"\n",
    "        _, _, _, _, A3 = self._feedforward(X, self.W1, self.W2)\n",
    "        # print(f\"========== A3.shapoe {A3.shape}\")\n",
    "        y_pred = np.argmax(A3, axis=0)\n",
    "        return y_pred\n",
    "\n",
    "    def fit(self, X, y, print_progress=False):\n",
    "        \"\"\" Learn weights from training data.\"\"\"\n",
    "\n",
    "        X_data, y_data = X.copy(), y.copy()\n",
    "        Y_enc = self._encode_labels(y)\n",
    "\n",
    "        # init weights and setup matrices\n",
    "        self.n_features_ = X_data.shape[1]\n",
    "        self.n_output_ = Y_enc.shape[0]\n",
    "        self.W1, self.W2 = self._initialize_weights()\n",
    "\n",
    "        self.cost_ = []\n",
    "        for i in range(self.epochs):\n",
    "\n",
    "            if print_progress>0 and (i+1)%print_progress==0:\n",
    "                sys.stderr.write('\\rEpoch: %d/%d' % (i+1, self.epochs))\n",
    "                sys.stderr.flush()\n",
    "\n",
    "            # feedforward all instances\n",
    "            A1, Z1, A2, Z2, A3 = self._feedforward(X_data,self.W1,self.W2)\n",
    "\n",
    "            cost = self._cost(A3,Y_enc,self.W1,self.W2)\n",
    "            self.cost_.append(cost)\n",
    "\n",
    "            # compute gradient via backpropagation\n",
    "            grad1, grad2 = self._get_gradient(A1=A1, A2=A2, A3=A3, Z1=Z1, Z2=Z2, Y_enc=Y_enc,\n",
    "                                              W1=self.W1, W2=self.W2)\n",
    "\n",
    "            self.W1 -= self.eta * grad1\n",
    "            self.W2 -= self.eta * grad2\n",
    "\n",
    "\n",
    "        return self"
   ]
  },
  {
   "cell_type": "code",
   "execution_count": 11,
   "metadata": {},
   "outputs": [],
   "source": [
    "class TwoLayerPerceptronVectorized(TwoLayerPerceptron):\n",
    "    # just need a different gradient calculation\n",
    "    def _get_gradient(self, A1, A2, A3, Z1, Z2, Y_enc, W1, W2):\n",
    "        \"\"\" Compute gradient step using backpropagation.\n",
    "        \"\"\"\n",
    "        # vectorized backpropagation\n",
    "        V2 = -2*(Y_enc-A3)*A3*(1-A3)\n",
    "        V1 = A2*(1-A2)*(W2.T @ V2)\n",
    "\n",
    "        grad2 = V2 @ A2.T\n",
    "        grad1 = V1[1:,:] @ A1.T\n",
    "\n",
    "\n",
    "        # regularize weights that are not bias terms\n",
    "        grad1[:, 1:] += W1[:, 1:] * self.l2_C\n",
    "        grad2[:, 1:] += W2[:, 1:] * self.l2_C\n",
    "\n",
    "        return grad1, grad2"
   ]
  },
  {
   "cell_type": "code",
   "execution_count": 12,
   "metadata": {
    "collapsed": false
   },
   "outputs": [],
   "source": [
    "import matplotlib.pyplot as plt\n",
    "params = dict(n_hidden=50,\n",
    "              C=0, # tradeoff L2 regularizer\n",
    "              epochs=400, # iterations\n",
    "              eta=0.001,  # learning rate\n",
    "              random_state=1)"
   ]
  },
  {
   "cell_type": "code",
   "execution_count": 13,
   "metadata": {},
   "outputs": [
    {
     "name": "stderr",
     "output_type": "stream",
     "text": [
      "Epoch: 400/400"
     ]
    },
    {
     "name": "stdout",
     "output_type": "stream",
     "text": [
      "[1]\n",
      "Accuracy: 0.25605060506050603\n"
     ]
    },
    {
     "data": {
      "image/png": "[encoded data removed]",
      "text/plain": [
       "<Figure size 432x288 with 1 Axes>"
      ]
     },
     "metadata": {
      "needs_background": "light"
     },
     "output_type": "display_data"
    },
    {
     "name": "stdout",
     "output_type": "stream",
     "text": [
      "CPU times: user 2min 13s, sys: 7.11 s, total: 2min 20s\n",
      "Wall time: 24.3 s\n"
     ]
    }
   ],
   "source": [
    "%%time\n",
    "nn = TwoLayerPerceptronVectorized(**params)\n",
    "\n",
    "nn.fit(X_train, y_train, print_progress=50)\n",
    "yhat = nn.predict(X_test)\n",
    "\n",
    "print(np.unique(yhat))\n",
    "print('Accuracy:',accuracy_score(y_test,yhat))\n",
    "\n",
    "plt.plot(range(len(nn.cost_)),nn.cost_)\n",
    "plt.ylabel(\"Cost\")\n",
    "plt.xlabel(\"Epoch\")\n",
    "plt.tight_layout()\n",
    "plt.show()"
   ]
  },
  {
   "cell_type": "code",
   "execution_count": 14,
   "metadata": {
    "collapsed": false
   },
   "outputs": [],
   "source": [
    "#Mini Batching\n",
    "class MiniBatchedTwoLayer(TwoLayerPerceptronVectorized):\n",
    "    def __init__(self,minibatches=1,shuffle=False,alpha=0.1,decrease_const=0.0, **kwargs):\n",
    "        self.minibatches = minibatches\n",
    "        self.shuffle = shuffle\n",
    "        self.alpha = alpha\n",
    "        self.decrease_const = decrease_const\n",
    "        super().__init__(**kwargs)\n",
    "    def fit(self,X,y,print_progress =0):\n",
    "        X_data, y_data = X.copy(), y.copy()\n",
    "        Y_enc = self._encode_labels(y)\n",
    "\n",
    "        self.n_features_ = X_data.shape[1]\n",
    "        self.n_output_ = Y_enc.shape[0]\n",
    "        self.W1, self.W2 = self._initialize_weights()\n",
    "\n",
    "        rho_W1_prev = np.zeros(self.W1.shape)\n",
    "        rho_W2_prev = np.zeros(self.W2.shape)\n",
    "\n",
    "\n",
    "        self.cost_ = []\n",
    "\n",
    "        for k in range(self.epochs):\n",
    "\n",
    "            eta = self.eta **(1+self.decrease_const*k)\n",
    "            eta = max(eta,self.eta/1000)\n",
    "\n",
    "            if print_progress >0 and (k + 1) % print_progress == 0:\n",
    "                sys.stderr.write('\\rEpoch: %d/%d' % (k+1, self.epochs))\n",
    "                sys.stderr.flush()\n",
    "\n",
    "            if self.shuffle:\n",
    "                ridx = np.random.permutation(y_data.shape[0])\n",
    "                # print(ridx)\n",
    "                # print(f\"X: {X_data.shape} | y: {Y_enc.shape} | y_data: {y_data.shape}\")\n",
    "\n",
    "                X_data, Y_enc = X_data[ridx], Y_enc[:,ridx]\n",
    "\n",
    "            mini = np.array_split(range(y_data.shape[0]),self.minibatches)\n",
    "            mini_cost = []\n",
    "            for idx in mini:\n",
    "                A1, Z1 ,A2 , Z2, A3 = self._feedforward(X_data[idx],\n",
    "                                                        self.W1,\n",
    "                                                        self.W2)\n",
    "\n",
    "                cost = self._cost(A3,Y_enc[:,idx],self.W1,self.W2)\n",
    "                mini_cost.append(cost)\n",
    "\n",
    "                grad1, grad2 = self._get_gradient(A1=A1,A2=A2,A3=A3,Z1=Z1,Z2=Z2,Y_enc=Y_enc[:, idx],\n",
    "                                                  W1=self.W1,W2=self.W2)\n",
    "                rho_W1,rho_W2 = eta * grad1, eta *grad2\n",
    "                self.W1 -=(rho_W1 + (self.alpha * rho_W1_prev))\n",
    "                self.W2 -= (rho_W2 + (self.alpha * rho_W2_prev))\n",
    "                rho_W1_prev, rho_W2_prev = rho_W1,rho_W2\n",
    "\n",
    "\n",
    "            self.cost_.append(mini_cost)\n",
    "        return self\n",
    "\n",
    "\n",
    "\n",
    "\n",
    "\n"
   ]
  },
  {
   "cell_type": "code",
   "execution_count": 15,
   "metadata": {
    "collapsed": false
   },
   "outputs": [
    {
     "name": "stderr",
     "output_type": "stream",
     "text": [
      "Epoch: 100/100"
     ]
    },
    {
     "name": "stdout",
     "output_type": "stream",
     "text": [
      "[1 2 3]\n",
      "Accuracy: 0.24525577557755776\n"
     ]
    }
   ],
   "source": [
    "#Testing Mini Batching\n",
    "\n",
    "params['epochs'] = 100\n",
    "params['eta'] = 0.1\n",
    "\n",
    "nn_mini = MiniBatchedTwoLayer(**params,\n",
    "                              minibatches=len(X_train)/32,\n",
    "                              shuffle=True)\n",
    "nn_mini.fit(X_train,y_train,print_progress=25)\n",
    "yhat = nn_mini.predict(X_test)\n",
    "\n",
    "print(np.unique(yhat))\n",
    "print(f'Accuracy: {accuracy_score(y_test,yhat)}')"
   ]
  },
  {
   "cell_type": "code",
   "execution_count": 16,
   "metadata": {
    "collapsed": false
   },
   "outputs": [
    {
     "data": {
      "image/png": "[encoded data removed]",
      "text/plain": [
       "<Figure size 432x288 with 1 Axes>"
      ]
     },
     "metadata": {
      "needs_background": "light"
     },
     "output_type": "display_data"
    }
   ],
   "source": [
    "#Graphing Cost Funciton over Epochs\n",
    "\n",
    "cost_avgs = [np.mean(x) for x in nn_mini.cost_]\n",
    "\n",
    "plt.plot(range(len(cost_avgs)),cost_avgs, color='blue')\n",
    "plt.ylabel(\"Cost\")\n",
    "plt.xlabel(\"Epoch\")\n",
    "plt.tight_layout()\n",
    "plt.show()"
   ]
  },
  {
   "cell_type": "code",
   "execution_count": 17,
   "metadata": {},
   "outputs": [],
   "source": [
    "# Cross Entropy Loss\n",
    "import math\n",
    "class CrossEntropyLossTwoLayer(MiniBatchedTwoLayer):\n",
    "    def  _cost(self,A3,Y_enc,W1,W2):\n",
    "        cost = -np.mean(np.nan_to_num((Y_enc*np.log(A3) + (1-Y_enc)*np.log(1-A3))))\n",
    "\n",
    "        return cost\n",
    "    def _get_gradient(self, A1, A2, A3, Z1, Z2, Y_enc, W1, W2):\n",
    "        # print(\"============\")\n",
    "\n",
    "        V2 = (A3-Y_enc)\n",
    "        V1 = A2*(1-A2) * (W2.T @V2)\n",
    "\n",
    "\n",
    "        grad2 = V2 @ A2.T\n",
    "        grad1 = V1[1:,:] @ A1.T\n",
    "\n",
    "        grad1[:,1:] += W1[:, 1:] * self.l2_C\n",
    "        grad2[:,1:] += W2[:,1:] * self.l2_C\n",
    "\n",
    "        return grad1,grad2"
   ]
  },
  {
   "cell_type": "code",
   "execution_count": 18,
   "metadata": {
    "collapsed": false
   },
   "outputs": [
    {
     "name": "stderr",
     "output_type": "stream",
     "text": [
      "/var/folders/m6/rmwt5gbx6dj274bh15l13lmc0000gn/T/ipykernel_87353/1304571784.py:5: RuntimeWarning: divide by zero encountered in log\n",
      "  cost = -np.mean(np.nan_to_num((Y_enc*np.log(A3) + (1-Y_enc)*np.log(1-A3))))\n",
      "/var/folders/m6/rmwt5gbx6dj274bh15l13lmc0000gn/T/ipykernel_87353/1304571784.py:5: RuntimeWarning: invalid value encountered in multiply\n",
      "  cost = -np.mean(np.nan_to_num((Y_enc*np.log(A3) + (1-Y_enc)*np.log(1-A3))))\n",
      "Epoch: 25/100/Users/kynerd/opt/anaconda3/lib/python3.9/site-packages/numpy/core/_methods.py:179: RuntimeWarning: overflow encountered in reduce\n",
      "  ret = umr_sum(arr, axis, dtype, out, keepdims, where=where)\n",
      "Epoch: 100/100"
     ]
    },
    {
     "name": "stdout",
     "output_type": "stream",
     "text": [
      "Accuracy: 0.2502062706270627\n"
     ]
    }
   ],
   "source": [
    "params['epochs'] = 100\n",
    "params['eta'] = 0.1\n",
    "\n",
    "nn_cross_entropy = CrossEntropyLossTwoLayer(**params,\n",
    "                              minibatches=len(X_train)/32,\n",
    "                              shuffle=True)\n",
    "nn_cross_entropy.fit(X_train,y_train,print_progress=25)\n",
    "yhat = nn_cross_entropy.predict(X_test)\n",
    "print(f'Accuracy: {accuracy_score(y_test,yhat)}')"
   ]
  },
  {
   "cell_type": "code",
   "execution_count": 19,
   "metadata": {
    "collapsed": false
   },
   "outputs": [
    {
     "data": {
      "image/png": "[encoded data removed]",
      "text/plain": [
       "<Figure size 432x288 with 1 Axes>"
      ]
     },
     "metadata": {
      "needs_background": "light"
     },
     "output_type": "display_data"
    }
   ],
   "source": [
    "cost_avgs = [np.mean(x) for x in nn_cross_entropy.cost_]\n",
    "\n",
    "\n",
    "# print(np.unique(cost_avgs))\n",
    "plt.plot(range(len(cost_avgs)),cost_avgs, color='blue')\n",
    "plt.ylabel(\"Cost\")\n",
    "plt.xlabel(\"Epoch\")\n",
    "plt.tight_layout()\n",
    "plt.show()"
   ]
  },
  {
   "cell_type": "code",
   "execution_count": 20,
   "metadata": {
    "collapsed": false
   },
   "outputs": [],
   "source": [
    "# Glorot initialization\n",
    "\n",
    "class FullyFledgedTwoLayer(CrossEntropyLossTwoLayer):\n",
    "    def _glorot_init_matrix(self,shape):\n",
    "        fan_in, fan_out = shape[0],shape[1]\n",
    "        variance = 2.0 / (fan_in + fan_out)\n",
    "        std = np.sqrt(variance)\n",
    "        return np.random.normal(loc=0.0,scale=std,size=shape)\n",
    "\n",
    "    def _initialize_weights(self):\n",
    "        W1 = self._glorot_init_matrix((self.n_hidden,self.n_features_ + 1))\n",
    "        W2 = self._glorot_init_matrix((self.n_output_,self.n_hidden + 1))\n",
    "\n",
    "        return W1,W2\n"
   ]
  },
  {
   "cell_type": "code",
   "execution_count": 21,
   "metadata": {
    "collapsed": false
   },
   "outputs": [],
   "source": [
    "# #Testing Using Dataset from Dr. Larson Example\n",
    "#\n",
    "# from sklearn.datasets import load_digits\n",
    "#\n",
    "# ds = load_digits()\n",
    "# X = ds.data/16.0-0.5\n",
    "# y=ds.target\n",
    "#\n",
    "# X_train,X_test,y_train,y_test = train_test_split(\n",
    "#     X,y,test_size=0.2)\n",
    "#\n",
    "# params = dict(n_hidden=50,\n",
    "#               C=0.1,\n",
    "#               epochs=400,\n",
    "#               eta=0.001,\n",
    "#               random_state=1)\n",
    "#\n",
    "#\n",
    "# nn = FullyFledgedTwoLayer(**params)\n",
    "#\n",
    "# nn.fit(X_train, y_train, print_progress=50)\n",
    "# yhat = nn.predict(X_test)\n",
    "#\n",
    "# print(np.unique(yhat))\n",
    "# print('Accuracy:',accuracy_score(y_test,yhat))\n",
    "#\n",
    "# plt.plot(range(len(nn.cost_)),nn.cost_)\n",
    "# plt.ylabel(\"Cost\")\n",
    "# plt.xlabel(\"Epoch\")\n",
    "# plt.tight_layout()\n",
    "# plt.show()"
   ]
  },
  {
   "cell_type": "code",
   "execution_count": null,
   "metadata": {
    "collapsed": false
   },
   "outputs": [],
   "source": []
  },
  {
   "cell_type": "code",
   "execution_count": 22,
   "metadata": {},
   "outputs": [],
   "source": [
    "# If you update the objective function, you must also update the get gradient function"
   ]
  },
  {
   "cell_type": "code",
   "execution_count": 23,
   "metadata": {},
   "outputs": [],
   "source": [
    "params = dict(C=0.1,\n",
    "              epochs=100,\n",
    "              eta=0.05,\n",
    "              alpha=0.1,\n",
    "              decrease_const=0.1,\n",
    "              minibatches=50,\n",
    "              shuffle=True,\n",
    "              random_state=4)"
   ]
  },
  {
   "cell_type": "markdown",
   "metadata": {},
   "source": [
    "##### **[.5 points]** Use the example two-layer perceptron network from the class example and quantify performance using accuracy. Do not normalize or one-hot encode the data (not yet). Be sure that training converges by graphing the loss function versus the number of epochs."
   ]
  },
  {
   "cell_type": "code",
   "execution_count": 24,
   "metadata": {},
   "outputs": [
    {
     "name": "stderr",
     "output_type": "stream",
     "text": [
      "/var/folders/m6/rmwt5gbx6dj274bh15l13lmc0000gn/T/ipykernel_87353/1304571784.py:5: RuntimeWarning: divide by zero encountered in log\n",
      "  cost = -np.mean(np.nan_to_num((Y_enc*np.log(A3) + (1-Y_enc)*np.log(1-A3))))\n",
      "/var/folders/m6/rmwt5gbx6dj274bh15l13lmc0000gn/T/ipykernel_87353/1304571784.py:5: RuntimeWarning: invalid value encountered in multiply\n",
      "  cost = -np.mean(np.nan_to_num((Y_enc*np.log(A3) + (1-Y_enc)*np.log(1-A3))))\n",
      "/Users/kynerd/opt/anaconda3/lib/python3.9/site-packages/numpy/core/_methods.py:179: RuntimeWarning: overflow encountered in reduce\n",
      "  ret = umr_sum(arr, axis, dtype, out, keepdims, where=where)\n"
     ]
    },
    {
     "name": "stdout",
     "output_type": "stream",
     "text": [
      "Accuracy: 0.24828107810781078\n",
      "CPU times: user 30.2 s, sys: 627 ms, total: 30.8 s\n",
      "Wall time: 5.2 s\n"
     ]
    }
   ],
   "source": [
    "%%time\n",
    "mlp1 = FullyFledgedTwoLayer(**params)\n",
    "\n",
    "mlp1.fit(X_train, y_train)\n",
    "yhat = mlp1.predict(X_test)\n",
    "\n",
    "print(\"Accuracy:\", accuracy_score(yhat, y_test))"
   ]
  },
  {
   "cell_type": "code",
   "execution_count": 25,
   "metadata": {},
   "outputs": [
    {
     "data": {
      "image/png": "[encoded data removed]",
      "text/plain": [
       "<Figure size 432x288 with 1 Axes>"
      ]
     },
     "metadata": {
      "needs_background": "light"
     },
     "output_type": "display_data"
    }
   ],
   "source": [
    "cost_avgs = [np.mean(x) for x in mlp1.cost_]\n",
    "\n",
    "plt.plot(range(len(cost_avgs)),cost_avgs, color='blue')\n",
    "plt.ylabel(\"Cost\")\n",
    "plt.xlabel(\"Epoch\")\n",
    "plt.tight_layout()\n",
    "plt.show()"
   ]
  },
  {
   "cell_type": "markdown",
   "metadata": {},
   "source": [
    "##### **[.5 points]** Now (1) normalize the continuous numeric feature data. Use the example two-layer perceptron network from the class example and quantify performance using accuracy. Be sure that training converges by graphing the loss function versus the number of epochs."
   ]
  },
  {
   "cell_type": "code",
   "execution_count": 26,
   "metadata": {},
   "outputs": [
    {
     "name": "stdout",
     "output_type": "stream",
     "text": [
      "X_train before normalization: 0.0 249750.0\n",
      "X_test  before normalization: 0.0 243194.0\n",
      "X_train after normalization: -0.5 0.5\n",
      "X_test  after normalization: -0.5 0.5\n"
     ]
    }
   ],
   "source": [
    "print('X_train before normalization:', np.min(X_train), np.max(X_train))\n",
    "print('X_test  before normalization:', np.min(X_test), np.max(X_test))\n",
    "\n",
    "X_train = X_train / 249750.0 - 0.5\n",
    "X_test  = X_test / 243194.0 - 0.5\n",
    "\n",
    "print('X_train after normalization:', np.min(X_train), np.max(X_train))\n",
    "print('X_test  after normalization:', np.min(X_test), np.max(X_test))"
   ]
  },
  {
   "cell_type": "code",
   "execution_count": 27,
   "metadata": {},
   "outputs": [
    {
     "name": "stderr",
     "output_type": "stream",
     "text": [
      "/var/folders/m6/rmwt5gbx6dj274bh15l13lmc0000gn/T/ipykernel_87353/1304571784.py:5: RuntimeWarning: divide by zero encountered in log\n",
      "  cost = -np.mean(np.nan_to_num((Y_enc*np.log(A3) + (1-Y_enc)*np.log(1-A3))))\n",
      "/var/folders/m6/rmwt5gbx6dj274bh15l13lmc0000gn/T/ipykernel_87353/1304571784.py:5: RuntimeWarning: invalid value encountered in multiply\n",
      "  cost = -np.mean(np.nan_to_num((Y_enc*np.log(A3) + (1-Y_enc)*np.log(1-A3))))\n",
      "/Users/kynerd/opt/anaconda3/lib/python3.9/site-packages/numpy/core/_methods.py:179: RuntimeWarning: overflow encountered in reduce\n",
      "  ret = umr_sum(arr, axis, dtype, out, keepdims, where=where)\n"
     ]
    },
    {
     "name": "stdout",
     "output_type": "stream",
     "text": [
      "Accuracy: 0.22015951595159516\n",
      "CPU times: user 37.3 s, sys: 1.24 s, total: 38.6 s\n",
      "Wall time: 6.61 s\n"
     ]
    }
   ],
   "source": [
    "%%time\n",
    "mlp2 = FullyFledgedTwoLayer(**params)\n",
    "\n",
    "mlp2.fit(X_train, y_train)\n",
    "yhat = mlp2.predict(X_test)\n",
    "\n",
    "print(\"Accuracy:\", accuracy_score(yhat, y_test))"
   ]
  },
  {
   "cell_type": "code",
   "execution_count": 28,
   "metadata": {},
   "outputs": [
    {
     "data": {
      "image/png": "[encoded data removed]",
      "text/plain": [
       "<Figure size 432x288 with 1 Axes>"
      ]
     },
     "metadata": {
      "needs_background": "light"
     },
     "output_type": "display_data"
    }
   ],
   "source": [
    "cost_avgs = [np.mean(x) for x in mlp2.cost_]\n",
    "\n",
    "plt.plot(range(len(cost_avgs)),cost_avgs, color='red')\n",
    "plt.ylabel(\"Cost\")\n",
    "plt.xlabel(\"Epoch\")\n",
    "plt.tight_layout()\n",
    "plt.show()"
   ]
  },
  {
   "cell_type": "markdown",
   "metadata": {},
   "source": [
    "##### **[.5 points]** Now (1) normalize the continuous numeric feature data AND (2) one hot encode the categorical data. Use the example two-layer perceptron network from the class example and quantify performance using accuracy. Be sure that training converges by graphing the loss function versus the number of epochs.\n",
    "&nbsp;&nbsp;&nbsp;&nbsp;&nbsp;Because we need to hot encode the categorical data, we need to go back to the point before we convert the categorical data into numerical. Now that we have the old data, we can go through the pre-processing again and normalize the numerical features and one-hot encode the categorical ones."
   ]
  },
  {
   "cell_type": "code",
   "execution_count": 29,
   "metadata": {},
   "outputs": [],
   "source": [
    "data = encode_and_bind(data_cat, 'State') ### one-hot encode the state column\n",
    "\n",
    "#Data Cleaning\n",
    "#Drop Non important columns\n",
    "data.drop(columns=['TractId','Hispanic','White','Black','Native','Asian','Pacific','Employed','MeanCommute','OtherTransp','Walk','Transit','Carpool','Drive','County'],inplace=True)\n",
    "\n",
    "\n",
    "#Numerical Data into percentages so that it is not skewed by population\n",
    "data['Men'] = data['Men'] / data['TotalPop']\n",
    "data['Women'] = data['Women'] / data['TotalPop']\n",
    "data['VotingAgeCitizen'] = data['VotingAgeCitizen'] / data['TotalPop']\n",
    "data.describe()\n",
    "\n",
    "#Coming up with divisors for child poverty\n",
    "\n",
    "tmp = pd.qcut(data['ChildPoverty'],4,labels=[1,2,3,4])\n",
    "data['ChildPoverty'] = tmp\n",
    "\n",
    "# split data\n",
    "\n",
    "train_data, test_data = train_test_split(data, test_size=0.2, random_state=42)\n",
    "\n",
    "y_train = pd.DataFrame(train_data['ChildPoverty'])\n",
    "y_train = y_train.values.ravel()\n",
    "X_train = train_data.drop(columns=['ChildPoverty'],inplace=False)\n",
    "X_train = np.array(X_train)\n",
    "\n",
    "y_test = pd.DataFrame(test_data['ChildPoverty'])\n",
    "y_test = y_test.values.ravel()\n",
    "X_test = test_data.drop(columns=['ChildPoverty'],inplace=False)\n",
    "X_test = np.array(X_test)"
   ]
  },
  {
   "cell_type": "code",
   "execution_count": 30,
   "metadata": {},
   "outputs": [],
   "source": [
    "# normalize\n",
    "\n",
    "X_train = X_train / 249750.0 - 0.5\n",
    "X_test  = X_test / 243194.0 - 0.5"
   ]
  },
  {
   "cell_type": "code",
   "execution_count": 31,
   "metadata": {},
   "outputs": [
    {
     "name": "stderr",
     "output_type": "stream",
     "text": [
      "/var/folders/m6/rmwt5gbx6dj274bh15l13lmc0000gn/T/ipykernel_87353/1304571784.py:5: RuntimeWarning: divide by zero encountered in log\n",
      "  cost = -np.mean(np.nan_to_num((Y_enc*np.log(A3) + (1-Y_enc)*np.log(1-A3))))\n",
      "/var/folders/m6/rmwt5gbx6dj274bh15l13lmc0000gn/T/ipykernel_87353/1304571784.py:5: RuntimeWarning: invalid value encountered in multiply\n",
      "  cost = -np.mean(np.nan_to_num((Y_enc*np.log(A3) + (1-Y_enc)*np.log(1-A3))))\n",
      "/Users/kynerd/opt/anaconda3/lib/python3.9/site-packages/numpy/core/_methods.py:179: RuntimeWarning: overflow encountered in reduce\n",
      "  ret = umr_sum(arr, axis, dtype, out, keepdims, where=where)\n"
     ]
    },
    {
     "name": "stdout",
     "output_type": "stream",
     "text": [
      "Accuracy: 0.24821232123212322\n",
      "CPU times: user 54.5 s, sys: 2.56 s, total: 57.1 s\n",
      "Wall time: 9.98 s\n"
     ]
    }
   ],
   "source": [
    "%%time\n",
    "mlp3 = FullyFledgedTwoLayer(**params)\n",
    "\n",
    "mlp3.fit(X_train, y_train)\n",
    "yhat = mlp3.predict(X_test)\n",
    "\n",
    "print(\"Accuracy:\", accuracy_score(yhat, y_test))"
   ]
  },
  {
   "cell_type": "code",
   "execution_count": 32,
   "metadata": {},
   "outputs": [
    {
     "data": {
      "image/png": "[encoded data removed]",
      "text/plain": [
       "<Figure size 432x288 with 1 Axes>"
      ]
     },
     "metadata": {
      "needs_background": "light"
     },
     "output_type": "display_data"
    }
   ],
   "source": [
    "cost_avgs = [np.mean(x) for x in mlp2.cost_]\n",
    "\n",
    "plt.plot(range(len(cost_avgs)),cost_avgs, color='green')\n",
    "plt.ylabel(\"Cost\")\n",
    "plt.xlabel(\"Epoch\")\n",
    "plt.tight_layout()\n",
    "plt.show()"
   ]
  },
  {
   "cell_type": "markdown",
   "metadata": {},
   "source": [
    "##### **[1 points]** Compare the performance of the three models you just trained. Are there any meaningful differences in performance? Explain, in your own words, why these models have (or do not have) different performances."
   ]
  },
  {
   "attachments": {},
   "cell_type": "markdown",
   "metadata": {},
   "source": [
    "&nbsp;&nbsp;&nbsp;&nbsp;&nbsp;\n",
    "All three models have poor performace with accuracy lower than 25%, due to the fact that our activation function calculates roughly equal probabilties for each class. The raw model and normalized/encoded model have the same performance at 24.8%. The normalized (but not one-hot encoded) has a lower accuracy, likely due to predicting almost entirely one class, as in the other models, but with a few incorrect predictions. We are unsure why accuracy is so low, as our model works perfectly on the digits dataset, as seen below."
   ]
  },
  {
   "cell_type": "markdown",
   "metadata": {},
   "source": [
    "### Use one-hot encoding and normalization on the dataset for the remainder of this lab assignment."
   ]
  },
  {
   "cell_type": "markdown",
   "metadata": {
    "collapsed": false
   },
   "source": [
    "### Modeling (5 points total)\n",
    "##### **[1 points]** Add support for a third layer in the multi-layer perceptron. Add support for saving (and plotting after training is completed) the average magnitude of the gradient for each layer, for each epoch (like we did in the flipped module for back propagation). For magnitude calculation, you are free to use either the average absolute values or the L1/L2 norm.\n",
    "Quantify the performance of the model and graph the magnitudes for each layer versus the number of epochs."
   ]
  },
  {
   "cell_type": "code",
   "execution_count": null,
   "metadata": {},
   "outputs": [],
   "source": []
  },
  {
   "cell_type": "markdown",
   "metadata": {},
   "source": [
    "##### **[1 points]** Repeat the previous step, adding support for a fourth layer."
   ]
  },
  {
   "cell_type": "code",
   "execution_count": null,
   "metadata": {},
   "outputs": [],
   "source": []
  },
  {
   "cell_type": "markdown",
   "metadata": {},
   "source": [
    "##### **[1 points]** Repeat the previous step, adding support for a fifth layer."
   ]
  },
  {
   "cell_type": "code",
   "execution_count": 33,
   "metadata": {},
   "outputs": [],
   "source": [
    "class MiltiLayerNetwork(object):\n",
    "    def __init__(self, hidden_layers,C=0.0,epochs=500,eta=0.001,random_state=None,minibatches=1,shuffle=False,alpha=0.1,\n",
    "        decrease_const=0.0,verbose=False):\n",
    "        np.random.seed(random_state)\n",
    "        self.hidden_layers = hidden_layers\n",
    "        self.l2_C = C\n",
    "        self.epochs = epochs\n",
    "        self.eta = eta\n",
    "        self.minibatches = minibatches\n",
    "        self.shuffle = shuffle\n",
    "        self.alpha = alpha\n",
    "        self.verbose = verbose\n",
    "        self.decrease_const = decrease_const\n",
    "\n",
    "    def _encode_labels(self,y):\n",
    "        return pd.get_dummies(y).values.T\n",
    "\n",
    "    def _glorot_init_matrix(self,shape):\n",
    "        fan_in, fan_out = shape[0],shape[1]\n",
    "        variance = 2.0 / (fan_in + fan_out)\n",
    "        std = np.sqrt(variance)\n",
    "        return np.random.normal(loc=0.0,scale=std,size=shape)\n",
    "\n",
    "    def _initialize_weights(self):\n",
    "\n",
    "        weights = []\n",
    "\n",
    "        prev_size = self.n_features_ \n",
    "        curr_size = self.hidden_layers[0]\n",
    "        for i in range(len(self.hidden_layers)):\n",
    "            weights.append(self._glorot_init_matrix((self.hidden_layers[i],prev_size + 1)))\n",
    "            curr_size = self.hidden_layers[i]\n",
    "            prev_size = curr_size\n",
    "\n",
    "        weights.append(self._glorot_init_matrix((self.n_output_,curr_size + 1)))\n",
    "        if self.verbose:\n",
    "            print('Weights in initialize function')\n",
    "            for idx,val in enumerate(weights):\n",
    "                print(f'\\t{idx}: {val.shape}')\n",
    "\n",
    "        return weights\n",
    "\n",
    "    def _feedforward(self,X, weights):\n",
    "        \n",
    "        # Weights in FeedForward Function\n",
    "        #     0: (30, 65)\n",
    "        #     1: (15, 31)\n",
    "        #     2: (25, 31)\n",
    "        #     3: (10, 26)\n",
    "        # A_prev: (65, 1437)\n",
    "        # A_prev: (65, 1437) | Z_prev: (30, 1437)\n",
    "        # i: 1 | A_prev(65, 1437) | Z_prev: (30, 1437)\n",
    "        # i: 2 | A_prev(31, 1437) | Z_prev: (15, 1437)\n",
    "        A = []\n",
    "        Z = []\n",
    "        if self.verbose:\n",
    "            print('Weights in FeedForward Function')\n",
    "            for idx,val in enumerate(weights):\n",
    "                print(f'\\t{idx}: {val.shape}')\n",
    "\n",
    "        A_prev = self._add_bias_unit(X.T,how='row')\n",
    "        if self.verbose:\n",
    "            print(f\"A_prev: {A_prev.shape}\")\n",
    "\n",
    "        Z_prev = weights[0] @ A_prev\n",
    "\n",
    "        if self.verbose:\n",
    "            print(f'A_prev: {A_prev.shape} | Z_prev: {Z_prev.shape}')\n",
    "\n",
    "        A.append(A_prev)\n",
    "        Z.append(Z_prev)\n",
    "        for i in range(1,len(weights)):\n",
    "            if self.verbose:\n",
    "                print(f'i: {i} | A_prev{A_prev.shape} | Z_prev: {Z_prev.shape}')\n",
    "            A_tmp = self._sigmoid(Z_prev)\n",
    "            A_tmp = self._add_bias_unit(A_tmp,how='row')\n",
    "            Z_tmp = weights[i] @ A_tmp\n",
    "            A.append(A_tmp)\n",
    "            Z.append(Z_tmp)\n",
    "            A_prev = A_tmp\n",
    "            Z_prev = Z_tmp\n",
    "        A.append(self._sigmoid(Z_prev))\n",
    "\n",
    "        if self.verbose:\n",
    "            print('A in feed forward')\n",
    "            for idx,val in enumerate(A):\n",
    "                print(f'\\t{idx}: {val.shape}')\n",
    "            print('Z in feed forward')\n",
    "            for idx,val in enumerate(Z):\n",
    "                print(f'\\t{idx}: {val.shape}')\n",
    "        return A,Z\n",
    "\n",
    "\n",
    "    def fit(self,X,y,print_progress =0):\n",
    "        X_data, y_data = X.copy(), y.copy()\n",
    "        Y_enc = self._encode_labels(y)\n",
    "\n",
    "        self.n_features_ = X_data.shape[1]\n",
    "        self.n_output_ = Y_enc.shape[0]\n",
    "        self.weights = self._initialize_weights()\n",
    "\n",
    "        # rho_W1_prev = np.zeros(self.W1.shape)\n",
    "        # rho_W2_prev = np.zeros(self.W2.shape)\n",
    "        rho_prev = [np.zeros(val.shape) for val in self.weights]\n",
    "        self.grad_values_ = []\n",
    "        self.cost_ = []\n",
    "\n",
    "        for k in range(self.epochs):\n",
    "\n",
    "            eta = self.eta **(1+self.decrease_const*k)\n",
    "            eta = max(eta,self.eta/1000)\n",
    "\n",
    "            if print_progress >0 and (k + 1) % print_progress == 0:\n",
    "                sys.stderr.write('\\rEpoch: %d/%d' % (k+1, self.epochs))\n",
    "                sys.stderr.flush()\n",
    "\n",
    "            if self.shuffle:\n",
    "                ridx = np.random.permutation(y_data.shape[0])\n",
    "                # print(ridx)\n",
    "                # print(f\"X: {X_data.shape} | y: {Y_enc.shape} | y_data: {y_data.shape}\")\n",
    "\n",
    "                X_data, Y_enc = X_data[ridx], Y_enc[:,ridx]\n",
    "\n",
    "            mini = np.array_split(range(y_data.shape[0]),self.minibatches)\n",
    "            mini_cost = []\n",
    "            grad_costs=[]\n",
    "            for idx in mini:\n",
    "                A_arr, Z_arr = self._feedforward(X_data[idx],\n",
    "                                                        weights=self.weights)\n",
    "\n",
    "                cost = self._cost(A_arr[-1],Y_enc[:,idx],self.weights)\n",
    "                mini_cost.append(cost)\n",
    "\n",
    "                grads = self._get_gradient(A=A_arr,Y_enc=Y_enc[:, idx],\n",
    "                                                   weights=self.weights,Z=Z_arr)\n",
    "                \n",
    "                rho_new = [grad * eta for grad in grads]\n",
    "                # self.grad_values_.append([np.mean(np.sqrt(val**2)) for val in grads])\n",
    "                # grad_costs = np.append(grad_costs,[np.average(np.sqrt(val**2)) for val in grads])\n",
    "                grad_costs.append([np.average(np.sqrt(val**2)) for val in grads])\n",
    "                if self.verbose:\n",
    "                    print(f'Rho_new')\n",
    "                    for idx,val in enumerate(rho_new):\n",
    "                        print(f'{idx}: {val.shape}')\n",
    "                    print(f'rho_prev')\n",
    "                    for idx,val in enumerate(rho_prev):\n",
    "                        print(f'{idx}: {val.shape}')\n",
    "                # print(self.grad_values_)\n",
    "                self.weights = [self.weights[i] - (rho_new[i] + (self.alpha * rho_prev[i]) ) for i in range(len(grads))]\n",
    "                rho_prev = rho_new\n",
    "\n",
    "            # self.grad_values_ = np.append(self.grad_values_,grad_costs)\n",
    "            self.grad_values_.append([np.average(val) for val in grad_costs])\n",
    "            self.cost_.append(mini_cost)\n",
    "        return self\n",
    "        \n",
    "\n",
    "    def _get_gradient(self,A,Z,Y_enc,weights):\n",
    "        # In Get Gradient\n",
    "        # A: 4\n",
    "        #     0: (65, 1437)\n",
    "        #     1: (31, 1437)\n",
    "        #     2: (16, 1437)\n",
    "        #     3: (10, 1437)\n",
    "        # Z: 3\n",
    "        #     0: (30, 1437)\n",
    "        #     1: (15, 1437)\n",
    "        #     2: (10, 1437)\n",
    "        # weights: 3\n",
    "        #     0: (30, 65)\n",
    "        #     1: (15, 31)\n",
    "        #     2: (10, 16)\n",
    "        # Curr i: 1 | V_last: (10, 1437) | W.T (16, 10)\n",
    "        # Curr i: 0 | V_last: (16, 1437) | W.T (31, 15)\n",
    "\n",
    "        if self.verbose:\n",
    "                    print(f'In Get Gradient')\n",
    "                    print(f'A: {len(A)}')\n",
    "                    for idx,val in enumerate(A):\n",
    "                        print(f'\\t{idx}: {val.shape}')\n",
    "                    print(f'Z: {len(Z)}')\n",
    "                    for idx,val in enumerate(Z):\n",
    "                        print(f'\\t{idx}: {val.shape}')\n",
    "                    print(f'weights: {len(weights)}')\n",
    "                    for idx,val in enumerate(weights):\n",
    "                        print(f'\\t{idx}: {val.shape}')\n",
    "        grads = []\n",
    "\n",
    "        V_last = A[-1]-Y_enc\n",
    "        grad = V_last @ A[-2].T\n",
    "        grad[:,1:] += weights[-1][:,1:] * self.l2_C\n",
    "        grads.append(grad)\n",
    "\n",
    "\n",
    "        for i in list(reversed(range(len(weights) - 1))):\n",
    "            if self.verbose:\n",
    "                print(f'Curr i: {i} | V_last: {V_last.shape} | W.T {weights[i + 1].T.shape}')\n",
    "\n",
    "            V_new = A[i + 1] * (1-A[i + 1]) * (weights[i + 1].T @ V_last)\n",
    "            grad = V_new[1:,:] @ A[i].T\n",
    "            grad[:,1:] += weights[i][:,1:] * self.l2_C\n",
    "            V_last = V_new[1:,:]\n",
    "            grads.append(grad)\n",
    "        # for i in list(reversed(range(len(A) - 1,1))):\n",
    "        #     V_new = A[i] * (1-A[i]) * (weights[i - 1 ].T @ V_last)\n",
    "        #     grad = V_new[1:,:] @ A[i-1].T\n",
    "        #     grad[:,1:] += weights[i][:,1:] * self.l2_C\n",
    "        #     grads.append(grad)\n",
    "\n",
    "\n",
    "        if self.verbose:\n",
    "            print('Grads in get_Gradient')\n",
    "            for idx,val in enumerate(list(reversed(grads))):\n",
    "                print(f'\\t{idx}: {val.shape}')\n",
    "        return list(reversed(grads))\n",
    "\n",
    "\n",
    "    @staticmethod\n",
    "    def _sigmoid(z):\n",
    "        \"\"\"Use scipy.special.expit to avoid overflow\"\"\"\n",
    "        # 1.0 / (1.0 + np.exp(-z))\n",
    "        return expit(z)\n",
    "\n",
    "    @staticmethod\n",
    "    def _add_bias_unit(X, how='column'):\n",
    "        \"\"\"Add bias unit (column or row of 1s) to array at index 0\"\"\"\n",
    "        if how == 'column':\n",
    "            ones = np.ones((X.shape[0], 1))\n",
    "            X_new = np.hstack((ones, X))\n",
    "        elif how == 'row':\n",
    "            ones = np.ones((1, X.shape[1]))\n",
    "            X_new = np.vstack((ones, X))\n",
    "        return X_new\n",
    "\n",
    "    @staticmethod\n",
    "    def _L2_reg(lambda_, weights):\n",
    "        \"\"\"Compute L2-regularization cost\"\"\"\n",
    "        # only compute for non-bias terms\n",
    "        sqrts = np.sum([np.mean(W[:, 1:] ** 2) for W in weights])\n",
    "        return (lambda_) * np.sqrt(sqrts)\n",
    "\n",
    "    def _cost(self,A3,Y_enc,weights):\n",
    "        cost = -np.mean(np.nan_to_num((Y_enc*np.log(A3) + (1-Y_enc) * np.log(1-A3))))\n",
    "        L2_term = self._L2_reg(self.l2_C,weights)\n",
    "        return cost+L2_term\n",
    "\n",
    "    def predict(self, X):\n",
    "        \"\"\"Predict class labels\"\"\"\n",
    "        A,Z = self._feedforward(X, self.weights)\n",
    "        # print(f\"========== A3.shapoe {A3.shape}\")\n",
    "        for idx,val in enumerate(A):\n",
    "            print(f'{idx}: {np.min(val)} | {np.max(val)} | {np.mean(val)} | {np.median(val)}')\n",
    "        y_pred = np.argmax(A[-1], axis=0)\n",
    "        print(f\"A: {A[-1]}\")\n",
    "        return y_pred\n",
    "\n"
   ]
  },
  {
   "cell_type": "markdown",
   "metadata": {},
   "source": [
    "##### **[2 points]** Implement an adaptive learning technique that was discussed in lecture and use it on the five layer network (such as AdaGrad, RMSProps, or AdaDelta). Discuss which adaptive method you chose. Compare the performance of your five layer model with and without the adaptive learning strategy. Do not use AdaM for the adaptive learning technique as it is part of the exceptional work."
   ]
  },
  {
   "cell_type": "code",
   "execution_count": 42,
   "metadata": {},
   "outputs": [
    {
     "name": "stderr",
     "output_type": "stream",
     "text": [
      "/var/folders/m6/rmwt5gbx6dj274bh15l13lmc0000gn/T/ipykernel_87353/122556950.py:243: RuntimeWarning: divide by zero encountered in log\n",
      "  cost = -np.mean(np.nan_to_num((Y_enc*np.log(A3) + (1-Y_enc) * np.log(1-A3))))\n",
      "/var/folders/m6/rmwt5gbx6dj274bh15l13lmc0000gn/T/ipykernel_87353/122556950.py:243: RuntimeWarning: invalid value encountered in multiply\n",
      "  cost = -np.mean(np.nan_to_num((Y_enc*np.log(A3) + (1-Y_enc) * np.log(1-A3))))\n",
      "/Users/kynerd/opt/anaconda3/lib/python3.9/site-packages/numpy/core/_methods.py:179: RuntimeWarning: overflow encountered in reduce\n",
      "  ret = umr_sum(arr, axis, dtype, out, keepdims, where=where)\n",
      "Epoch: 100/100"
     ]
    },
    {
     "name": "stdout",
     "output_type": "stream",
     "text": [
      "0: -0.5 | 1.0 | -0.47323367006507877 | -0.5\n",
      "1: 4.580250140484136e-35 | 1.0 | 0.44476130040547746 | 0.06467573161522563\n",
      "2: 0.0 | 1.0 | 0.2549324492472125 | 6.1617531899123345e-06\n",
      "3: 0.24291055189184926 | 0.25519896758098426 | 0.24990566480914664 | 0.25073615340416894\n",
      "A: [[0.24293335 0.24293198 0.24293218 ... 0.24293258 0.24293044 0.24292546]\n",
      " [0.24981906 0.24981703 0.24981729 ... 0.24981801 0.24981478 0.24980742]\n",
      " [0.25519772 0.25519707 0.25519718 ... 0.25519734 0.25519634 0.255194  ]\n",
      " [0.25167719 0.25167541 0.25167563 ... 0.25167627 0.25167343 0.25166697]]\n",
      "[2]\n",
      "Accuracy: 0.25605060506050603\n"
     ]
    },
    {
     "data": {
      "image/png": "[encoded data removed]",
      "text/plain": [
       "<Figure size 432x288 with 1 Axes>"
      ]
     },
     "metadata": {
      "needs_background": "light"
     },
     "output_type": "display_data"
    }
   ],
   "source": [
    "#Testing Using Dataset from Dr. Larson Example\n",
    "\n",
    "from sklearn.datasets import load_digits\n",
    "\n",
    "\n",
    "\n",
    "params = dict(\n",
    "              C=0.1,\n",
    "              epochs=100,\n",
    "              eta=0.05,\n",
    "              alpha=0.1,\n",
    "              decrease_const=0.1,\n",
    "              minibatches=50,\n",
    "              shuffle=True,\n",
    "              random_state=4)\n",
    "\n",
    "\n",
    "nn = MiltiLayerNetwork(hidden_layers=[100,50],verbose=False,**params)\n",
    "\n",
    "\n",
    "\n",
    "nn.fit(X_train, y_train, print_progress=25)\n",
    "yhat = nn.predict(X_test)\n",
    "\n",
    "print(np.unique(yhat))\n",
    "print('Accuracy:',accuracy_score(y_test,yhat))\n",
    "\n",
    "\n",
    "cost_avgs = [np.mean(x) for x in nn.cost_]\n",
    "\n",
    "plt.plot(range(len(cost_avgs)),cost_avgs)\n",
    "plt.ylabel(\"Cost\")\n",
    "plt.xlabel(\"Epoch\")\n",
    "plt.tight_layout()\n",
    "plt.show()"
   ]
  },
  {
   "cell_type": "code",
   "execution_count": 35,
   "metadata": {},
   "outputs": [],
   "source": [
    "class TestNetwork(MiltiLayerNetwork):\n",
    "    def _get_gradient(self,A,Z,Y_enc,weights):\n",
    "        # In Get Gradient\n",
    "        # A: 4\n",
    "        #     0: (65, 1437)\n",
    "        #     1: (31, 1437)\n",
    "        #     2: (16, 1437)\n",
    "        #     3: (10, 1437)\n",
    "        # Z: 3\n",
    "        #     0: (30, 1437)\n",
    "        #     1: (15, 1437)\n",
    "        #     2: (10, 1437)\n",
    "        # weights: 3\n",
    "        #     0: (30, 65)\n",
    "        #     1: (15, 31)\n",
    "        #     2: (10, 16)\n",
    "        # Curr i: 1 | V_last: (10, 1437) | W.T (16, 10)\n",
    "        # Curr i: 0 | V_last: (16, 1437) | W.T (31, 15)\n",
    "\n",
    "        if self.verbose:\n",
    "                    print(f'In Get Gradient')\n",
    "                    print(f'A: {len(A)}')\n",
    "                    for idx,val in enumerate(A):\n",
    "                        print(f'\\t{idx}: {val.shape}')\n",
    "                    print(f'Z: {len(Z)}')\n",
    "                    for idx,val in enumerate(Z):\n",
    "                        print(f'\\t{idx}: {val.shape}')\n",
    "                    print(f'weights: {len(weights)}')\n",
    "                    for idx,val in enumerate(weights):\n",
    "                        print(f'\\t{idx}: {val.shape}')\n",
    "        grads = []\n",
    "\n",
    "        V_last = -2 * (Y_enc - A[-1]) * A[-1] *(1-A[-1])\n",
    "        grad = V_last @ A[-2].T\n",
    "        grad[:,1:] += weights[-1][:,1:] * self.l2_C\n",
    "        grads.append(grad)\n",
    "\n",
    "\n",
    "        for i in list(reversed(range(len(weights) - 1))):\n",
    "            if self.verbose:\n",
    "                print(f'Curr i: {i} | V_last: {V_last.shape} | W.T {weights[i + 1].T.shape}')\n",
    "\n",
    "            V_new = A[i + 1] * (1-A[i + 1]) * (weights[i + 1].T @ V_last)\n",
    "            grad = V_new[1:,:] @ A[i].T\n",
    "            grad[:,1:] += weights[i][:,1:] * self.l2_C\n",
    "            V_last = V_new[1:,:]\n",
    "            grads.append(grad)\n",
    "        # for i in list(reversed(range(len(A) - 1,1))):\n",
    "        #     V_new = A[i] * (1-A[i]) * (weights[i - 1 ].T @ V_last)\n",
    "        #     grad = V_new[1:,:] @ A[i-1].T\n",
    "        #     grad[:,1:] += weights[i][:,1:] * self.l2_C\n",
    "        #     grads.append(grad)\n",
    "\n",
    "\n",
    "        if self.verbose:\n",
    "            print('Grads in get_Gradient')\n",
    "            for idx,val in enumerate(list(reversed(grads))):\n",
    "                print(f'\\t{idx}: {val.shape}')\n",
    "        return list(reversed(grads))\n",
    "\n",
    "    def _cost(self,A3,Y_enc,weights):\n",
    "        # cost = -np.mean(np.nan_to_num((Y_enc*np.log(A3) + (1-Y_enc) * np.log(1-A3))))\n",
    "        cost = np.mean((Y_enc-A3)**2)\n",
    "        L2_term = self._L2_reg(self.l2_C,weights)\n",
    "        return cost+L2_term\n",
    "\n",
    "    def _initialize_weights(self):\n",
    "\n",
    "        weights = []\n",
    "\n",
    "        prev_size = self.n_features_ \n",
    "        curr_size = self.hidden_layers[0]\n",
    "        for i in range(len(self.hidden_layers)):\n",
    "            # weights.append(self._glorot_init_matrix((self.hidden_layers[i],prev_size + 1)))\n",
    "            # weights.append(np.random.uniform(-1.0,1.0,size=self.hidden_layers[i] * (prev_size + 1)).reshape(self))\n",
    "            weight_size = self.hidden_layers[i] * (prev_size + 1)\n",
    "            weight = np.random.uniform(-1.0,1.0,size=weight_size)\n",
    "            weight = weight.reshape(self.hidden_layers[i],prev_size + 1)\n",
    "            weights.append(weight)\n",
    "            curr_size = self.hidden_layers[i]\n",
    "            prev_size = curr_size\n",
    "\n",
    "        weight_size = self.n_output_ * (prev_size + 1)\n",
    "        weight = np.random.uniform(-1.0,1.0,size=weight_size)\n",
    "        weight = weight.reshape(self.n_output_,prev_size + 1)\n",
    "        weights.append(weight)\n",
    "        # weights.append(self._glorot_init_matrix((self.n_output_,curr_size + 1)))\n",
    "        if self.verbose:\n",
    "            print('Weights in initialize function')\n",
    "            for idx,val in enumerate(weights):\n",
    "                print(f'\\t{idx}: {val.shape}')\n",
    "\n",
    "        return weights"
   ]
  },
  {
   "cell_type": "code",
   "execution_count": 36,
   "metadata": {},
   "outputs": [
    {
     "name": "stderr",
     "output_type": "stream",
     "text": [
      "Epoch: 100/100"
     ]
    },
    {
     "name": "stdout",
     "output_type": "stream",
     "text": [
      "0: -0.5 | 1.0 | -0.47323367006507877 | -0.5\n",
      "1: 0.01089402294679081 | 1.0 | 0.47772437601478696 | 0.4562596876413449\n",
      "2: 0.009415384812884758 | 1.0 | 0.3634452426719103 | 0.2759862076243353\n",
      "3: 3.44422239051365e-11 | 2.5020277454438015e-09 | 8.007411435808537e-10 | 3.332473024872381e-10\n",
      "A: [[2.50202775e-09 2.50202775e-09 2.50202775e-09 ... 2.50202775e-09\n",
      "  2.50202775e-09 2.50202775e-09]\n",
      " [2.08403160e-10 2.08403160e-10 2.08403160e-10 ... 2.08403160e-10\n",
      "  2.08403160e-10 2.08403160e-10]\n",
      " [3.44422239e-11 3.44422239e-11 3.44422239e-11 ... 3.44422239e-11\n",
      "  3.44422239e-11 3.44422239e-11]\n",
      " [4.58091445e-10 4.58091445e-10 4.58091445e-10 ... 4.58091445e-10\n",
      "  4.58091445e-10 4.58091445e-10]]\n",
      "[0]\n",
      "Accuracy: 0.0\n"
     ]
    },
    {
     "data": {
      "image/png": "[encoded data removed]",
      "text/plain": [
       "<Figure size 432x288 with 1 Axes>"
      ]
     },
     "metadata": {
      "needs_background": "light"
     },
     "output_type": "display_data"
    }
   ],
   "source": [
    "params = dict(\n",
    "              C=0.1,\n",
    "              epochs=100,\n",
    "              eta=0.1,\n",
    "              alpha=0.1,\n",
    "              decrease_const=0.001,\n",
    "              minibatches=50,\n",
    "              shuffle=True,\n",
    "              random_state=1)\n",
    "\n",
    "\n",
    "nn = TestNetwork(hidden_layers=[100,50],verbose=False,**params)\n",
    "\n",
    "nn.fit(X_train, y_train, print_progress=25)\n",
    "yhat = nn.predict(X_test)\n",
    "\n",
    "print(np.unique(yhat))\n",
    "print('Accuracy:',accuracy_score(y_test,yhat))\n",
    "\n",
    "\n",
    "cost_avgs = [np.mean(x) for x in nn.cost_]\n",
    "\n",
    "plt.plot(range(len(cost_avgs)),cost_avgs)\n",
    "plt.ylabel(\"Cost\")\n",
    "plt.xlabel(\"Epoch\")\n",
    "plt.tight_layout()\n",
    "plt.show()"
   ]
  },
  {
   "cell_type": "code",
   "execution_count": 37,
   "metadata": {},
   "outputs": [
    {
     "name": "stdout",
     "output_type": "stream",
     "text": [
      "[0]\n",
      "[1 2 3 4]\n",
      "[1 2 3 4]\n"
     ]
    }
   ],
   "source": [
    "print(np.unique(yhat))\n",
    "print(np.unique(y_train))\n",
    "print(np.unique(y_test))"
   ]
  },
  {
   "cell_type": "code",
   "execution_count": 38,
   "metadata": {},
   "outputs": [
    {
     "data": {
      "image/png": "[encoded data removed]",
      "text/plain": [
       "<Figure size 432x288 with 1 Axes>"
      ]
     },
     "metadata": {
      "needs_background": "light"
     },
     "output_type": "display_data"
    }
   ],
   "source": [
    "plt.plot(range(len(nn.grad_values_)),nn.grad_values_)\n",
    "plt.ylabel(\"Grad Value\")\n",
    "plt.xlabel(\"Epoch\")\n",
    "plt.tight_layout()\n",
    "plt.show()"
   ]
  },
  {
   "cell_type": "code",
   "execution_count": 46,
   "metadata": {},
   "outputs": [
    {
     "name": "stderr",
     "output_type": "stream",
     "text": [
      "/var/folders/m6/rmwt5gbx6dj274bh15l13lmc0000gn/T/ipykernel_87353/122556950.py:243: RuntimeWarning: divide by zero encountered in log\n",
      "  cost = -np.mean(np.nan_to_num((Y_enc*np.log(A3) + (1-Y_enc) * np.log(1-A3))))\n",
      "/var/folders/m6/rmwt5gbx6dj274bh15l13lmc0000gn/T/ipykernel_87353/122556950.py:243: RuntimeWarning: invalid value encountered in multiply\n",
      "  cost = -np.mean(np.nan_to_num((Y_enc*np.log(A3) + (1-Y_enc) * np.log(1-A3))))\n",
      "/Users/kynerd/opt/anaconda3/lib/python3.9/site-packages/numpy/core/_methods.py:179: RuntimeWarning: overflow encountered in reduce\n",
      "  ret = umr_sum(arr, axis, dtype, out, keepdims, where=where)\n",
      "Epoch: 100/100"
     ]
    },
    {
     "data": {
      "text/plain": [
       "<__main__.MiltiLayerNetwork at 0x7fd8c9e8d670>"
      ]
     },
     "execution_count": 46,
     "metadata": {},
     "output_type": "execute_result"
    }
   ],
   "source": [
    "scaler = StandardScaler()\n",
    "X_train = scaler.fit_transform(X_train)\n",
    "X_test = scaler.transform(X_test)\n",
    "params = dict(\n",
    "              C=0.1,\n",
    "              epochs=100,\n",
    "              eta=0.05,\n",
    "              alpha=0.1,\n",
    "              decrease_const=0.1,\n",
    "              minibatches=50,\n",
    "              shuffle=True,\n",
    "              random_state=4)\n",
    "\n",
    "nn_3_layer = MiltiLayerNetwork(hidden_layers=[50,25],**params)\n",
    "nn_4_layer = MiltiLayerNetwork(hidden_layers=[50,25,15],**params)\n",
    "nn_5_layer = MiltiLayerNetwork(hidden_layers=[50,25,15,10],**params)\n",
    "\n",
    "nn_3_layer.fit(X_train,y_train,print_progress=25)\n",
    "nn_4_layer.fit(X_train,y_train,print_progress=25)\n",
    "nn_5_layer.fit(X_train,y_train,print_progress=25)"
   ]
  },
  {
   "cell_type": "code",
   "execution_count": 47,
   "metadata": {},
   "outputs": [
    {
     "name": "stdout",
     "output_type": "stream",
     "text": [
      "0: -12.489439894762109 | 27.74983819448449 | 0.04232776551974864 | -0.11044017239211314\n",
      "1: 1.2801186147050931e-70 | 1.0 | 0.46236495009113704 | 0.25577524237681515\n",
      "2: 0.0 | 1.0 | 0.10796357097444596 | 3.8761325073644823e-10\n",
      "3: 1.759187629467964e-05 | 0.9570307671345221 | 0.24934267881710473 | 0.14199902515302948\n",
      "A: [[1.92523434e-02 3.60277686e-01 8.21571862e-02 ... 1.92389263e-02\n",
      "  5.22154303e-01 7.97727994e-01]\n",
      " [7.25892138e-02 4.58821957e-01 6.11840121e-01 ... 7.26052889e-02\n",
      "  3.07620206e-01 1.17829167e-01]\n",
      " [3.52013743e-01 9.80977424e-02 4.29960204e-01 ... 3.52184097e-01\n",
      "  3.90988746e-02 6.07295116e-03]\n",
      " [5.81371255e-01 2.52149428e-04 5.61812228e-04 ... 5.81440592e-01\n",
      "  1.48993295e-04 5.49513549e-05]]\n",
      "0: -12.489439894762109 | 27.74983819448449 | 0.04232776551974864 | -0.11044017239211314\n",
      "1: 5.1120240402142324e-05 | 1.0 | 0.5326542660369118 | 0.530357304424286\n",
      "2: 6.162269237575329e-49 | 1.0 | 0.30240493044472105 | 0.0007781019830081482\n",
      "3: 1.340900830324897e-203 | 1.0 | 0.06351603820573441 | 0.00042709851075687635\n",
      "4: 0.2477190890224664 | 0.2511528484342094 | 0.24999791847284542 | 0.25053803923105167\n",
      "A: [[0.25106056 0.25107079 0.25107486 ... 0.25105748 0.25108883 0.25112778]\n",
      " [0.24785864 0.2478965  0.24789342 ... 0.24789347 0.24788276 0.24785697]\n",
      " [0.25022677 0.25024791 0.25024999 ... 0.25023685 0.25025658 0.25027707]\n",
      " [0.25080486 0.25079558 0.25079639 ... 0.25079499 0.25080095 0.25081008]]\n",
      "0: -12.489439894762109 | 27.74983819448449 | 0.04232776551974864 | -0.11044017239211314\n",
      "1: 0.025539418759810854 | 1.0 | 0.513662870428512 | 0.5062908399319513\n",
      "2: 0.06291080996075402 | 1.0 | 0.632225720656214 | 0.7396060862016048\n",
      "3: 9.828072151818941e-05 | 1.0 | 0.31610916177617393 | 0.0133375189057355\n",
      "4: 6.884171791698805e-30 | 1.0 | 0.09154209026066559 | 0.0008037590839028412\n",
      "5: 0.24850870229829958 | 0.2512001944934063 | 0.24999692969929208 | 0.25014139703335614\n",
      "A: [[0.25119685 0.25119491 0.25119518 ... 0.25119465 0.25119444 0.25119449]\n",
      " [0.24850973 0.24850984 0.24850976 ... 0.24850975 0.24850974 0.24851001]\n",
      " [0.24985858 0.24985844 0.24985844 ... 0.24985839 0.24985837 0.24985844]\n",
      " [0.25042483 0.25042495 0.25042487 ... 0.25042486 0.25042485 0.25042514]]\n",
      "Accuracy of 3 Hidden: 0.1998074807480748\n",
      "Accuracy of 4 Hidden: 0.0\n",
      "Accuracy of 5 Hidden: 0.0\n"
     ]
    }
   ],
   "source": [
    "y_hat_3 = nn_3_layer.predict(X_test)\n",
    "y_hat_4 = nn_4_layer.predict(X_test)\n",
    "y_hat_5 = nn_5_layer.predict(X_test)\n",
    "\n",
    "print('Accuracy of 3 Hidden:',accuracy_score(y_test,y_hat_3))\n",
    "print('Accuracy of 4 Hidden:',accuracy_score(y_test,y_hat_4))\n",
    "print('Accuracy of 5 Hidden:',accuracy_score(y_test,y_hat_5))"
   ]
  },
  {
   "cell_type": "code",
   "execution_count": 48,
   "metadata": {},
   "outputs": [
    {
     "data": {
      "image/png": "[encoded data removed]",
      "text/plain": [
       "<Figure size 2160x720 with 3 Axes>"
      ]
     },
     "metadata": {
      "needs_background": "light"
     },
     "output_type": "display_data"
    }
   ],
   "source": [
    "fig, ax = plt.subplots(nrows=1,ncols=3,figsize=[30,10])\n",
    "\n",
    "ax = ax.flatten()\n",
    "# networks = [nn_3_layer,nn_4_layer,nn_5_layer]\n",
    "\n",
    "tmp = np.array(nn_3_layer.grad_values_)\n",
    "ax[0].plot(range(len(nn.grad_values_)),tmp[:,0],label='W1')\n",
    "ax[0].plot(range(len(nn.grad_values_)),tmp[:,1],label='W2')\n",
    "# ax[0].ylabel(\"Grad Value\")\n",
    "ax[0].legend()\n",
    "# ax[0].xlabel(\"Epoch\")\n",
    "\n",
    "tmp = np.array(nn_4_layer.grad_values_)\n",
    "ax[1].plot(range(len(nn.grad_values_)),tmp[:,1],label='W1')\n",
    "ax[1].plot(range(len(nn.grad_values_)),tmp[:,0],label='W2')\n",
    "ax[1].plot(range(len(nn.grad_values_)),tmp[:,2],label='W3')\n",
    "# ax[1].ylabel(\"Grad Value\")\n",
    "ax[1].legend()\n",
    "# ax[1].xlabel(\"Epoch\")\n",
    "\n",
    "tmp = np.array(nn_5_layer.grad_values_)\n",
    "ax[2].plot(range(len(nn.grad_values_)),tmp[:,0],label='W1')\n",
    "ax[2].plot(range(len(nn.grad_values_)),tmp[:,1],label='W2')\n",
    "ax[2].plot(range(len(nn.grad_values_)),tmp[:,2],label='W3')\n",
    "ax[2].plot(range(len(nn.grad_values_)),tmp[:,3],label='W4')\n",
    "# ax[2].ylabel(\"Grad Value\")\n",
    "ax[2].legend()\n",
    "# ax[2].xlabel(\"Epoch\")\n",
    "\n",
    "\n",
    "plt.tight_layout()\n",
    "plt.show()\n",
    "# # tmp = nn.grad_values_.reshape(2,2,2)"
   ]
  },
  {
   "attachments": {},
   "cell_type": "markdown",
   "metadata": {},
   "source": [
    "# Proof that our model works...."
   ]
  },
  {
   "cell_type": "code",
   "execution_count": 55,
   "metadata": {},
   "outputs": [
    {
     "name": "stdout",
     "output_type": "stream",
     "text": [
      "<class 'numpy.ndarray'>\n",
      "<class 'numpy.ndarray'>\n",
      "[1 4 3 ... 3 4 3]\n",
      "[2 9 5 ... 6 2 4]\n"
     ]
    },
    {
     "name": "stderr",
     "output_type": "stream",
     "text": [
      "Epoch: 400/400"
     ]
    },
    {
     "name": "stdout",
     "output_type": "stream",
     "text": [
      "0: -0.5 | 1.0 | -0.17495726495726496 | -0.4375\n",
      "1: 1.0958605017362685e-05 | 1.0 | 0.30224689802314075 | 0.12109651672312244\n",
      "2: 0.0002470009489801537 | 1.0 | 0.441021262055263 | 0.23121255494065426\n",
      "3: 4.011767913373342e-08 | 0.9995632379133212 | 0.09857904061890073 | 0.0014359222661943132\n",
      "A: [[5.68556266e-05 4.81787195e-02 1.72508335e-05 ... 1.96516163e-03\n",
      "  6.98169168e-04 6.44989628e-04]\n",
      " [9.67328449e-02 1.52475575e-04 9.45756339e-01 ... 1.08758463e-03\n",
      "  8.83900961e-03 1.23865273e-03]\n",
      " [3.88887246e-04 1.72267841e-01 2.99988434e-03 ... 9.97526565e-01\n",
      "  2.18385667e-05 1.94054058e-01]\n",
      " ...\n",
      " [1.25014595e-04 2.75091924e-03 6.70391829e-03 ... 1.38651719e-03\n",
      "  4.59193339e-03 1.53662594e-01]\n",
      " [7.75278046e-01 1.61603272e-03 1.13889749e-01 ... 3.15147188e-03\n",
      "  3.60143786e-03 5.52617365e-03]\n",
      " [5.30681103e-02 1.68872810e-04 3.91435155e-04 ... 1.49465854e-05\n",
      "  9.78341141e-01 1.66937799e-05]]\n",
      "[0 1 2 3 4 5 6 7 8 9]\n",
      "[0 1 2 3 4 5 6 7 8 9]\n",
      "[0 1 2 3 4 5 6 7 8 9]\n",
      "Accuracy: 0.9833333333333333\n"
     ]
    },
    {
     "data": {
      "image/png": "[encoded data removed]",
      "text/plain": [
       "<Figure size 432x288 with 1 Axes>"
      ]
     },
     "metadata": {
      "needs_background": "light"
     },
     "output_type": "display_data"
    }
   ],
   "source": [
    "ds = load_digits()\n",
    "X_digit = ds.data/16.0-0.5\n",
    "y_digit=ds.target\n",
    "\n",
    "X_train_d,X_test_d,y_train_d,y_test_d = train_test_split(\n",
    "    X_digit,y_digit,test_size=0.2)\n",
    "\n",
    "print(type(y_train))\n",
    "print(type(y_train_d))\n",
    "print(y_train)\n",
    "print(y_train_d)\n",
    "\n",
    "params = dict(\n",
    "              C=0.01,\n",
    "              epochs=400,\n",
    "              eta=0.1,\n",
    "              minibatches=50,\n",
    "              shuffle=True,\n",
    "              random_state=1)\n",
    "nn = MiltiLayerNetwork(hidden_layers=[30,15],verbose=False,**params)\n",
    "\n",
    "nn.fit(X_train_d, y_train_d, print_progress=50)\n",
    "yhat = nn.predict(X_test_d)\n",
    "\n",
    "print(np.unique(yhat))\n",
    "print(np.unique(y_test_d))\n",
    "print(np.unique(y_train_d))\n",
    "\n",
    "print('Accuracy:',accuracy_score(y_test_d,yhat))\n",
    "\n",
    "cost_avgs = [np.mean(x) for x in nn.cost_]\n",
    "\n",
    "plt.plot(range(len(cost_avgs)),cost_avgs)\n",
    "plt.ylabel(\"Cost\")\n",
    "plt.xlabel(\"Epoch\")\n",
    "plt.tight_layout()\n",
    "plt.show()"
   ]
  },
  {
   "cell_type": "code",
   "execution_count": 40,
   "metadata": {},
   "outputs": [],
   "source": [
    "tmp = np.array(nn.grad_values_)\n",
    "plt.plot(range(len(nn.grad_values_)),tmp[:,0],label='W1')\n",
    "plt.plot(range(len(nn.grad_values_)),tmp[:,1],label='W2')\n",
    "plt.ylabel(\"Grad Value\")\n",
    "plt.legend()\n",
    "plt.xlabel(\"Epoch\")\n",
    "plt.tight_layout()\n",
    "plt.show()\n",
    "# tmp = nn.grad_values_.reshape(2,2,2)\n",
    "\n",
    "print(tmp.shape)"
   ]
  },
  {
   "cell_type": "markdown",
   "metadata": {
    "collapsed": false
   },
   "source": [
    "### Exceptional Work (1 points total)\n",
    "5000 level student: You have free reign to provide additional analyses.\n",
    "One idea (required for 7000 level students):  Implement adaptive momentum (AdaM) in the five layer neural network and quantify the performance."
   ]
  },
  {
   "cell_type": "code",
   "execution_count": 44,
   "metadata": {},
   "outputs": [
    {
     "name": "stdout",
     "output_type": "stream",
     "text": [
      "(1797, 64)\n",
      "(1797,)\n",
      "-0.5 0.5\n",
      "[0 1 2 3 4 5 6 7 8 9]\n",
      "X_train: (1437, 64)\n",
      "y_train: (1437,)\n",
      "X_test: (360, 64)\n",
      "y_test: (360,)\n"
     ]
    }
   ],
   "source": [
    "# # Data from the notebook just to check that the functions are working and we have the same types for the X and y datasets\n",
    "\n",
    "from sklearn.datasets import load_digits\n",
    "from sklearn.metrics import accuracy_score\n",
    "from sklearn.preprocessing import StandardScaler\n",
    "import numpy as np\n",
    "\n",
    "ds = load_digits()\n",
    "X = ds.data/16.0-0.5 # normalize the input, very important\n",
    "y = ds.target\n",
    "\n",
    "print(X.shape)\n",
    "print(y.shape)\n",
    "print(np.min(X),np.max(X))\n",
    "print(np.unique(y))\n",
    "\n",
    "from sklearn.model_selection import train_test_split\n",
    "\n",
    "X_train_num, X_test_num, y_train_num, y_test_num = train_test_split(\n",
    "    X,y,test_size = 0.2)\n",
    "\n",
    "print('X_train:', X_train_num.shape)\n",
    "print('y_train:', y_train_num.shape)\n",
    "print('X_test:', X_test_num.shape)\n",
    "print('y_test:', y_test_num.shape)\n",
    "\n",
    "# nn.fit(X_train_num, y_train_num, print_progress=50)"
   ]
  }
 ],
 "metadata": {
  "kernelspec": {
   "display_name": "Python 3.9.16 ('ML')",
   "language": "python",
   "name": "python3"
  },
  "language_info": {
   "codemirror_mode": {
    "name": "ipython",
    "version": 3
   },
   "file_extension": ".py",
   "mimetype": "text/x-python",
   "name": "python",
   "nbconvert_exporter": "python",
   "pygments_lexer": "ipython3",
   "version": "3.9.16"
  },
  "vscode": {
   "interpreter": {
    "hash": "2a03b7e4a847289eadc10d91b928a6af0ebca04a76ecdbe7c2b643ae23f24787"
   }
  }
 },
 "nbformat": 4,
 "nbformat_minor": 0
}
